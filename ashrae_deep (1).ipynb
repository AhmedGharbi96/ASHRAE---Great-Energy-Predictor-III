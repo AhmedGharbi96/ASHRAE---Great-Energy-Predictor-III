{
  "nbformat": 4,
  "nbformat_minor": 0,
  "metadata": {
    "kernelspec": {
      "display_name": "Python 3",
      "language": "python",
      "name": "python3"
    },
    "language_info": {
      "codemirror_mode": {
        "name": "ipython",
        "version": 3
      },
      "file_extension": ".py",
      "mimetype": "text/x-python",
      "name": "python",
      "nbconvert_exporter": "python",
      "pygments_lexer": "ipython3",
      "version": "3.6.8"
    },
    "colab": {
      "name": "ashrae_deep.ipynb",
      "provenance": [],
      "collapsed_sections": [],
      "machine_shape": "hm"
    }
  },
  "cells": [
    {
      "cell_type": "code",
      "metadata": {
        "id": "SiIOVX4psSJo",
        "colab_type": "code",
        "colab": {}
      },
      "source": [
        "import pandas as pd\n",
        "import numpy as np\n",
        "import seaborn as sns\n",
        "import matplotlib.pyplot as plt\n",
        "pd.set_option('display.max_rows', 500)\n",
        "pd.set_option('display.max_columns', 500)"
      ],
      "execution_count": 0,
      "outputs": []
    },
    {
      "cell_type": "code",
      "metadata": {
        "id": "LgQltunJuD0s",
        "colab_type": "code",
        "outputId": "7a16b821-5c70-4177-cb50-499706d69776",
        "colab": {
          "base_uri": "https://localhost:8080/",
          "height": 34
        }
      },
      "source": [
        "from google.colab import drive\n",
        "drive.mount('/content/gdrive')"
      ],
      "execution_count": 2,
      "outputs": [
        {
          "output_type": "stream",
          "text": [
            "Drive already mounted at /content/gdrive; to attempt to forcibly remount, call drive.mount(\"/content/gdrive\", force_remount=True).\n"
          ],
          "name": "stdout"
        }
      ]
    },
    {
      "cell_type": "code",
      "metadata": {
        "id": "eVjLBojvu211",
        "colab_type": "code",
        "outputId": "2beb9241-df3b-4905-a68d-7ea204e646dc",
        "colab": {
          "base_uri": "https://localhost:8080/",
          "height": 867
        }
      },
      "source": [
        "import zipfile\n",
        "with zipfile.ZipFile('/content/gdrive/My Drive/ashrae_data/ashrae-energy-prediction.zip',\"r\") as zip_ref:\n",
        "    zip_ref.extractall('/content/gdrive/My Drive/ashrae_data/zipped_data')"
      ],
      "execution_count": 0,
      "outputs": [
        {
          "output_type": "stream",
          "text": [
            "ERROR:root:Internal Python error in the inspect module.\n",
            "Below is the traceback from this internal error.\n",
            "\n"
          ],
          "name": "stderr"
        },
        {
          "output_type": "stream",
          "text": [
            "Traceback (most recent call last):\n",
            "  File \"/usr/local/lib/python3.6/dist-packages/IPython/core/interactiveshell.py\", line 2882, in run_code\n",
            "    exec(code_obj, self.user_global_ns, self.user_ns)\n",
            "  File \"<ipython-input-3-0b4e519f1386>\", line 3, in <module>\n",
            "    zip_ref.extractall('/content/gdrive/My Drive/ashrae_data/zipped_data')\n",
            "  File \"/usr/lib/python3.6/zipfile.py\", line 1524, in extractall\n",
            "    self._extract_member(zipinfo, path, pwd)\n",
            "  File \"/usr/lib/python3.6/zipfile.py\", line 1577, in _extract_member\n",
            "    with self.open(member, pwd=pwd) as source, \\\n",
            "  File \"/usr/lib/python3.6/zipfile.py\", line 1391, in open\n",
            "    fheader = zef_file.read(sizeFileHeader)\n",
            "  File \"/usr/lib/python3.6/zipfile.py\", line 729, in read\n",
            "    data = self._file.read(n)\n",
            "KeyboardInterrupt\n",
            "\n",
            "During handling of the above exception, another exception occurred:\n",
            "\n",
            "Traceback (most recent call last):\n",
            "  File \"/usr/local/lib/python3.6/dist-packages/IPython/core/interactiveshell.py\", line 1823, in showtraceback\n",
            "    stb = value._render_traceback_()\n",
            "AttributeError: 'KeyboardInterrupt' object has no attribute '_render_traceback_'\n",
            "\n",
            "During handling of the above exception, another exception occurred:\n",
            "\n",
            "Traceback (most recent call last):\n",
            "  File \"/usr/local/lib/python3.6/dist-packages/IPython/core/ultratb.py\", line 1132, in get_records\n",
            "    return _fixed_getinnerframes(etb, number_of_lines_of_context, tb_offset)\n",
            "  File \"/usr/local/lib/python3.6/dist-packages/IPython/core/ultratb.py\", line 313, in wrapped\n",
            "    return f(*args, **kwargs)\n",
            "  File \"/usr/local/lib/python3.6/dist-packages/IPython/core/ultratb.py\", line 358, in _fixed_getinnerframes\n",
            "    records = fix_frame_records_filenames(inspect.getinnerframes(etb, context))\n",
            "  File \"/usr/lib/python3.6/inspect.py\", line 1490, in getinnerframes\n",
            "    frameinfo = (tb.tb_frame,) + getframeinfo(tb, context)\n",
            "  File \"/usr/lib/python3.6/inspect.py\", line 1452, in getframeinfo\n",
            "    lines, lnum = findsource(frame)\n",
            "  File \"/usr/local/lib/python3.6/dist-packages/IPython/core/ultratb.py\", line 182, in findsource\n",
            "    lines = linecache.getlines(file, globals_dict)\n",
            "  File \"/usr/lib/python3.6/linecache.py\", line 47, in getlines\n",
            "    return updatecache(filename, module_globals)\n",
            "  File \"/usr/lib/python3.6/linecache.py\", line 137, in updatecache\n",
            "    lines = fp.readlines()\n",
            "  File \"/usr/lib/python3.6/codecs.py\", line 318, in decode\n",
            "    def decode(self, input, final=False):\n",
            "KeyboardInterrupt\n"
          ],
          "name": "stdout"
        },
        {
          "output_type": "error",
          "ename": "KeyboardInterrupt",
          "evalue": "ignored",
          "traceback": [
            "\u001b[0;31m---------------------------------------------------------------------------\u001b[0m"
          ]
        }
      ]
    },
    {
      "cell_type": "code",
      "metadata": {
        "id": "xIQAa0CavLvx",
        "colab_type": "code",
        "outputId": "bee68700-a0de-44ca-cccc-4a069cc6f75d",
        "colab": {
          "base_uri": "https://localhost:8080/",
          "height": 54
        }
      },
      "source": [
        "!ls '/content/gdrive/My Drive/ashrae_data/zipped_data'"
      ],
      "execution_count": 0,
      "outputs": [
        {
          "output_type": "stream",
          "text": [
            "building_metadata.csv  test.csv   weather_test.csv\n",
            "sample_submission.csv  train.csv  weather_train.csv\n"
          ],
          "name": "stdout"
        }
      ]
    },
    {
      "cell_type": "code",
      "metadata": {
        "id": "SSBSbOj3sSJt",
        "colab_type": "code",
        "colab": {}
      },
      "source": [
        "path='/content/gdrive/My Drive/ashrae_data/zipped_data'  \n",
        "train_path=path+\"/train.csv\"\n",
        "test_path=path+\"/test.csv\"\n",
        "building_metadata_path=path+\"/building_metadata.csv\"\n",
        "weather_train_path=path+\"/weather_train.csv\"\n",
        "weather_test_path=path+\"/weather_test.csv\"\n",
        "\n",
        "train=pd.read_csv(train_path)\n",
        "test=pd.read_csv(test_path)\n",
        "building_metadata=pd.read_csv(building_metadata_path)\n",
        "weather_train=pd.read_csv(weather_train_path)\n",
        "weather_test=pd.read_csv(weather_test_path)"
      ],
      "execution_count": 0,
      "outputs": []
    },
    {
      "cell_type": "code",
      "metadata": {
        "id": "ml2-znyOsSJx",
        "colab_type": "code",
        "colab": {}
      },
      "source": [
        "#function to reduce the memory usage\n",
        "def reduce_mem_usage(df):\n",
        "    \"\"\" \n",
        "    iterate through all the columns of a dataframe and \n",
        "    modify the data type to reduce memory usage.        \n",
        "    \"\"\"\n",
        "    start_mem = df.memory_usage().sum() / 1024**2\n",
        "    print(('Memory usage of dataframe is {:.2f}' \n",
        "                     'MB').format(start_mem))\n",
        "    \n",
        "    for col in df.columns:\n",
        "        col_type = df[col].dtype\n",
        "        \n",
        "        if col_type != object:\n",
        "            c_min = df[col].min()\n",
        "            c_max = df[col].max()\n",
        "            if str(col_type)[:3] == 'int':\n",
        "                if c_min > np.iinfo(np.int8).min and c_max <\\\n",
        "                  np.iinfo(np.int8).max:\n",
        "                    df[col] = df[col].astype(np.int8)\n",
        "                elif c_min > np.iinfo(np.int16).min and c_max <\\\n",
        "                   np.iinfo(np.int16).max:\n",
        "                    df[col] = df[col].astype(np.int16)\n",
        "                elif c_min > np.iinfo(np.int32).min and c_max <\\\n",
        "                   np.iinfo(np.int32).max:\n",
        "                    df[col] = df[col].astype(np.int32)\n",
        "                elif c_min > np.iinfo(np.int64).min and c_max <\\\n",
        "                   np.iinfo(np.int64).max:\n",
        "                    df[col] = df[col].astype(np.int64)  \n",
        "            else:\n",
        "                if c_min > np.finfo(np.float16).min and c_max <\\\n",
        "                   np.finfo(np.float16).max:\n",
        "                    df[col] = df[col].astype(np.float16)\n",
        "                elif c_min > np.finfo(np.float32).min and c_max <\\\n",
        "                   np.finfo(np.float32).max:\n",
        "                    df[col] = df[col].astype(np.float32)\n",
        "                else:\n",
        "                    df[col] = df[col].astype(np.float64)\n",
        "        else:\n",
        "            df[col] = df[col].astype('category')\n",
        "    end_mem = df.memory_usage().sum() / 1024**2\n",
        "    print(('Memory usage after optimization is: {:.2f}' \n",
        "                              'MB').format(end_mem))\n",
        "    print('Decreased by {:.1f}%'.format(100 * (start_mem - end_mem) \n",
        "                                             / start_mem))\n",
        "    \n",
        "    return df"
      ],
      "execution_count": 0,
      "outputs": []
    },
    {
      "cell_type": "code",
      "metadata": {
        "id": "9Ye4VPI4sSJ3",
        "colab_type": "code",
        "outputId": "7c05e8a1-1fd6-47db-eee4-0e9d5c159b8a",
        "colab": {
          "base_uri": "https://localhost:8080/",
          "height": 269
        }
      },
      "source": [
        "train=reduce_mem_usage(train)\n",
        "test=reduce_mem_usage(test)\n",
        "building_metadata=reduce_mem_usage(building_metadata)\n",
        "weather_train=reduce_mem_usage(weather_train)\n",
        "weather_test=reduce_mem_usage(weather_test)\n",
        "\n",
        "weather_train['timestamp']=pd.to_datetime(weather_train[\"timestamp\"], format='%Y-%m-%d %H:%M:%S')\n",
        "weather_test['timestamp']=pd.to_datetime(weather_test[\"timestamp\"], format='%Y-%m-%d %H:%M:%S')\n",
        "train['timestamp']=pd.to_datetime(train[\"timestamp\"], format='%Y-%m-%d %H:%M:%S')\n",
        "test['timestamp']=pd.to_datetime(test[\"timestamp\"], format='%Y-%m-%d %H:%M:%S')"
      ],
      "execution_count": 82,
      "outputs": [
        {
          "output_type": "stream",
          "text": [
            "Memory usage of dataframe is 616.95MB\n",
            "Memory usage after optimization is: 173.90MB\n",
            "Decreased by 71.8%\n",
            "Memory usage of dataframe is 1272.51MB\n",
            "Memory usage after optimization is: 358.65MB\n",
            "Decreased by 71.8%\n",
            "Memory usage of dataframe is 0.07MB\n",
            "Memory usage after optimization is: 0.02MB\n",
            "Decreased by 73.8%\n",
            "Memory usage of dataframe is 9.60MB\n",
            "Memory usage after optimization is: 2.65MB\n",
            "Decreased by 72.4%\n",
            "Memory usage of dataframe is 19.04MB\n",
            "Memory usage after optimization is: 5.25MB\n",
            "Decreased by 72.4%\n"
          ],
          "name": "stdout"
        }
      ]
    },
    {
      "cell_type": "code",
      "metadata": {
        "id": "FmFCzgAesSJ7",
        "colab_type": "code",
        "colab": {}
      },
      "source": [
        "train.timestamp=train.timestamp.astype(weather_train.timestamp.dtype)\n",
        "test.timestamp=test.timestamp.astype(weather_test.timestamp.dtype)"
      ],
      "execution_count": 0,
      "outputs": []
    },
    {
      "cell_type": "code",
      "metadata": {
        "id": "-Ri-OzDWsSJ-",
        "colab_type": "code",
        "colab": {}
      },
      "source": [
        "# let's start by examining the missing values\n",
        "def missing_values(df):\n",
        "    ret=pd.DataFrame()\n",
        "    ret[\"n_missing_values\"]=df.isnull().sum()\n",
        "    ret[\"percentage\"]=(df.isnull().sum()/df.shape[0])*100\n",
        "    return(ret)"
      ],
      "execution_count": 0,
      "outputs": []
    },
    {
      "cell_type": "code",
      "metadata": {
        "id": "9Sod-YKMsSKB",
        "colab_type": "code",
        "outputId": "58963f12-0a6a-4eab-b37f-9e85f449f256",
        "colab": {
          "base_uri": "https://localhost:8080/",
          "height": 185
        }
      },
      "source": [
        "print(missing_values(train))\n",
        "print(missing_values(test))"
      ],
      "execution_count": 8,
      "outputs": [
        {
          "output_type": "stream",
          "text": [
            "               n_missing_values  percentage\n",
            "building_id                   0         0.0\n",
            "meter                         0         0.0\n",
            "timestamp                     0         0.0\n",
            "meter_reading                 0         0.0\n",
            "             n_missing_values  percentage\n",
            "row_id                      0         0.0\n",
            "building_id                 0         0.0\n",
            "meter                       0         0.0\n",
            "timestamp                   0         0.0\n"
          ],
          "name": "stdout"
        }
      ]
    },
    {
      "cell_type": "code",
      "metadata": {
        "id": "jFgOKch5sSKF",
        "colab_type": "code",
        "outputId": "1409f8b4-ae32-4200-ec4b-ff151643c0ef",
        "colab": {
          "base_uri": "https://localhost:8080/",
          "height": 353
        }
      },
      "source": [
        "print(missing_values(weather_train))\n",
        "print(missing_values(weather_test))"
      ],
      "execution_count": 9,
      "outputs": [
        {
          "output_type": "stream",
          "text": [
            "                    n_missing_values  percentage\n",
            "site_id                            0    0.000000\n",
            "timestamp                          0    0.000000\n",
            "air_temperature                   55    0.039350\n",
            "cloud_coverage                 69173   49.489529\n",
            "dew_temperature                  113    0.080845\n",
            "precip_depth_1_hr              50289   35.979052\n",
            "sea_level_pressure             10618    7.596603\n",
            "wind_direction                  6268    4.484414\n",
            "wind_speed                       304    0.217496\n",
            "                    n_missing_values  percentage\n",
            "site_id                            0    0.000000\n",
            "timestamp                          0    0.000000\n",
            "air_temperature                  104    0.037512\n",
            "cloud_coverage                140448   50.658808\n",
            "dew_temperature                  327    0.117947\n",
            "precip_depth_1_hr              95588   34.478057\n",
            "sea_level_pressure             21265    7.670167\n",
            "wind_direction                 12370    4.461790\n",
            "wind_speed                       460    0.165919\n"
          ],
          "name": "stdout"
        }
      ]
    },
    {
      "cell_type": "code",
      "metadata": {
        "id": "btC2izHJsSKI",
        "colab_type": "code",
        "colab": {}
      },
      "source": [
        "#cloud_coverage and precip_depth_1_hr,sea_level_pressure,wind_direction will be dropped because of the high number of missing values"
      ],
      "execution_count": 0,
      "outputs": []
    },
    {
      "cell_type": "code",
      "metadata": {
        "id": "9-2Ep-QOsSKL",
        "colab_type": "code",
        "colab": {}
      },
      "source": [
        "weather_train.drop(columns=[\"cloud_coverage\",\"precip_depth_1_hr\",\"sea_level_pressure\",\"wind_direction\"],axis=0,inplace=True)\n",
        "weather_test.drop(columns=[\"cloud_coverage\",\"precip_depth_1_hr\",\"sea_level_pressure\",\"wind_direction\"],axis=0,inplace=True)"
      ],
      "execution_count": 0,
      "outputs": []
    },
    {
      "cell_type": "code",
      "metadata": {
        "id": "hpy_zq--sSKO",
        "colab_type": "code",
        "outputId": "c1006eab-f301-4250-fd8f-19e09ed21ccf",
        "colab": {
          "base_uri": "https://localhost:8080/",
          "height": 134
        }
      },
      "source": [
        "print(missing_values(building_metadata))"
      ],
      "execution_count": 12,
      "outputs": [
        {
          "output_type": "stream",
          "text": [
            "             n_missing_values  percentage\n",
            "site_id                     0    0.000000\n",
            "building_id                 0    0.000000\n",
            "primary_use                 0    0.000000\n",
            "square_feet                 0    0.000000\n",
            "year_built                774   53.416149\n",
            "floor_count              1094   75.500345\n"
          ],
          "name": "stdout"
        }
      ]
    },
    {
      "cell_type": "code",
      "metadata": {
        "id": "jf_Ad5-vsSKR",
        "colab_type": "code",
        "colab": {}
      },
      "source": [
        "# we also will be dropping year_built and floor_count in the building_metadata dataframe"
      ],
      "execution_count": 0,
      "outputs": []
    },
    {
      "cell_type": "code",
      "metadata": {
        "id": "8omkIHOxsSKU",
        "colab_type": "code",
        "colab": {}
      },
      "source": [
        "building_metadata.drop(columns=[\"year_built\",\"floor_count\"],axis=0,inplace=True)"
      ],
      "execution_count": 0,
      "outputs": []
    },
    {
      "cell_type": "markdown",
      "metadata": {
        "id": "bQ16a6R736c5",
        "colab_type": "text"
      },
      "source": [
        "## Correlations:\n"
      ]
    },
    {
      "cell_type": "code",
      "metadata": {
        "id": "SdzVovvN4Brk",
        "colab_type": "code",
        "colab": {
          "base_uri": "https://localhost:8080/",
          "height": 202
        },
        "outputId": "b6f9540e-7da3-4370-abc1-bd8362db3ae2"
      },
      "source": [
        "# Find correlations with the target and sort\n",
        "correlations = train.corr()['meter_reading'].sort_values()\n",
        "\n",
        "# Display correlations\n",
        "print('Most Positive Correlations:\\n', correlations.tail(15))\n",
        "print('\\nMost Negative Correlations:\\n', correlations.head(15))"
      ],
      "execution_count": 83,
      "outputs": [
        {
          "output_type": "stream",
          "text": [
            "Most Positive Correlations:\n",
            " building_id      0.008761\n",
            "meter            0.017672\n",
            "meter_reading    1.000000\n",
            "Name: meter_reading, dtype: float64\n",
            "\n",
            "Most Negative Correlations:\n",
            " building_id      0.008761\n",
            "meter            0.017672\n",
            "meter_reading    1.000000\n",
            "Name: meter_reading, dtype: float64\n"
          ],
          "name": "stdout"
        }
      ]
    },
    {
      "cell_type": "code",
      "metadata": {
        "id": "dEqG0MRq4XDo",
        "colab_type": "code",
        "colab": {
          "base_uri": "https://localhost:8080/",
          "height": 500
        },
        "outputId": "9f028886-1a2c-484e-da33-44248cc2d667"
      },
      "source": [
        "corrs = train.corr()\n",
        "plt.figure(figsize = (20, 8))\n",
        "\n",
        "# Heatmap of correlations\n",
        "sns.heatmap(corrs, cmap = plt.cm.RdYlBu_r, vmin = -0.25, annot = True, vmax = 0.6)\n",
        "plt.title('Correlation Heatmap');"
      ],
      "execution_count": 86,
      "outputs": [
        {
          "output_type": "display_data",
          "data": {
            "image/png": "[encoded data removed]",
            "text/plain": [
              "<Figure size 1440x576 with 2 Axes>"
            ]
          },
          "metadata": {
            "tags": []
          }
        }
      ]
    },
    {
      "cell_type": "markdown",
      "metadata": {
        "id": "D8i3TfG44oqU",
        "colab_type": "text"
      },
      "source": [
        "## Ploting:"
      ]
    },
    {
      "cell_type": "code",
      "metadata": {
        "id": "al8cQD_Q4ra2",
        "colab_type": "code",
        "colab": {}
      },
      "source": [
        "#plot dist curves for train and test weather data\n",
        "def plot_dist_col(column):\n",
        "  \n",
        "    fig, ax = plt.subplots(figsize=(10, 10))\n",
        "    sns.distplot(weather_train[column].dropna(), color='green', ax=ax).set_title(column, fontsize=16)\n",
        "    sns.distplot(weather_test[column].dropna(), color='purple', ax=ax).set_title(column, fontsize=16)\n",
        "    plt.xlabel(column, fontsize=15)\n",
        "    plt.legend(['train', 'test'])\n",
        "    plt.show()"
      ],
      "execution_count": 0,
      "outputs": []
    },
    {
      "cell_type": "code",
      "metadata": {
        "id": "U_wE3MrE5SYu",
        "colab_type": "code",
        "colab": {
          "base_uri": "https://localhost:8080/",
          "height": 630
        },
        "outputId": "09aca10c-5b40-4315-b623-d4281d77e4ea"
      },
      "source": [
        "#plot dist. curves for train and test weather data for air_temperature\n",
        "plot_dist_col('air_temperature')"
      ],
      "execution_count": 88,
      "outputs": [
        {
          "output_type": "display_data",
          "data": {
            "image/png": "[encoded data removed]",
            "text/plain": [
              "<Figure size 720x720 with 1 Axes>"
            ]
          },
          "metadata": {
            "tags": []
          }
        }
      ]
    },
    {
      "cell_type": "code",
      "metadata": {
        "id": "pGdg9Q-15-qw",
        "colab_type": "code",
        "colab": {
          "base_uri": "https://localhost:8080/",
          "height": 630
        },
        "outputId": "e7e6cff9-3c4d-4bc0-e20d-278e5879605e"
      },
      "source": [
        "#cloud coverage\n",
        "plot_dist_col('cloud_coverage')"
      ],
      "execution_count": 90,
      "outputs": [
        {
          "output_type": "display_data",
          "data": {
            "image/png": "[encoded data removed]",
            "text/plain": [
              "<Figure size 720x720 with 1 Axes>"
            ]
          },
          "metadata": {
            "tags": []
          }
        }
      ]
    },
    {
      "cell_type": "code",
      "metadata": {
        "id": "wIVsuOP16BQV",
        "colab_type": "code",
        "colab": {
          "base_uri": "https://localhost:8080/",
          "height": 630
        },
        "outputId": "e8f67a7f-e04a-485f-8334-2be950d87b5b"
      },
      "source": [
        "#dew temperature\n",
        "plot_dist_col('dew_temperature')"
      ],
      "execution_count": 91,
      "outputs": [
        {
          "output_type": "display_data",
          "data": {
            "image/png": "[encoded data removed]",
            "text/plain": [
              "<Figure size 720x720 with 1 Axes>"
            ]
          },
          "metadata": {
            "tags": []
          }
        }
      ]
    },
    {
      "cell_type": "code",
      "metadata": {
        "id": "iAxtA-L06UBk",
        "colab_type": "code",
        "colab": {
          "base_uri": "https://localhost:8080/",
          "height": 630
        },
        "outputId": "d0cd56a5-6b9b-4a06-ca61-a0fa2fd01a68"
      },
      "source": [
        "#precip_depth_1_hr\n",
        "\n",
        "plot_dist_col('precip_depth_1_hr')\n",
        "\n"
      ],
      "execution_count": 92,
      "outputs": [
        {
          "output_type": "display_data",
          "data": {
            "image/png": "[encoded data removed]",
            "text/plain": [
              "<Figure size 720x720 with 1 Axes>"
            ]
          },
          "metadata": {
            "tags": []
          }
        }
      ]
    },
    {
      "cell_type": "code",
      "metadata": {
        "id": "v685L0O06dGh",
        "colab_type": "code",
        "colab": {
          "base_uri": "https://localhost:8080/",
          "height": 630
        },
        "outputId": "59e6db5d-effd-4d46-8ec6-8ab2181a2d4e"
      },
      "source": [
        "#sea_level_pressure\n",
        "plot_dist_col('sea_level_pressure')"
      ],
      "execution_count": 93,
      "outputs": [
        {
          "output_type": "display_data",
          "data": {
            "image/png": "[encoded data removed]",
            "text/plain": [
              "<Figure size 720x720 with 1 Axes>"
            ]
          },
          "metadata": {
            "tags": []
          }
        }
      ]
    },
    {
      "cell_type": "code",
      "metadata": {
        "id": "NPphskMj6lre",
        "colab_type": "code",
        "colab": {
          "base_uri": "https://localhost:8080/",
          "height": 630
        },
        "outputId": "ba0817ec-f41f-48a2-d040-97e4216332f5"
      },
      "source": [
        "#wind_speed\n",
        "plot_dist_col('wind_speed')"
      ],
      "execution_count": 94,
      "outputs": [
        {
          "output_type": "display_data",
          "data": {
            "image/png": "[encoded data removed]",
            "text/plain": [
              "<Figure size 720x720 with 1 Axes>"
            ]
          },
          "metadata": {
            "tags": []
          }
        }
      ]
    },
    {
      "cell_type": "code",
      "metadata": {
        "id": "Vn8ZOOg66wYW",
        "colab_type": "code",
        "colab": {
          "base_uri": "https://localhost:8080/",
          "height": 530
        },
        "outputId": "02758da2-f69e-46b7-e719-eb93b3d7ad06"
      },
      "source": [
        "#plotting the target across time\n",
        "plt.figure(figsize=(16,8))\n",
        "plt.title('meter_reading')\n",
        "plt.xlabel('timestamp')\n",
        "plt.ylabel('meter_reading')\n",
        "train.meter_reading.plot()"
      ],
      "execution_count": 96,
      "outputs": [
        {
          "output_type": "execute_result",
          "data": {
            "text/plain": [
              "<matplotlib.axes._subplots.AxesSubplot at 0x7f4d9ec10ef0>"
            ]
          },
          "metadata": {
            "tags": []
          },
          "execution_count": 96
        },
        {
          "output_type": "display_data",
          "data": {
            "image/png": "[encoded data removed]",
            "text/plain": [
              "<Figure size 1152x576 with 1 Axes>"
            ]
          },
          "metadata": {
            "tags": []
          }
        }
      ]
    },
    {
      "cell_type": "markdown",
      "metadata": {
        "id": "pHoG3aG37PQU",
        "colab_type": "text"
      },
      "source": [
        "## Dealing with missing values:"
      ]
    },
    {
      "cell_type": "code",
      "metadata": {
        "id": "RkDDmcflsSKi",
        "colab_type": "code",
        "colab": {}
      },
      "source": [
        "# There were some missing hours for some buildings. Those hours have to be created."
      ],
      "execution_count": 0,
      "outputs": []
    },
    {
      "cell_type": "code",
      "metadata": {
        "id": "hMrBKqRGsSKl",
        "colab_type": "code",
        "outputId": "261b0e34-848c-4a43-be87-8973d614c6b2",
        "colab": {
          "base_uri": "https://localhost:8080/",
          "height": 195
        }
      },
      "source": [
        "weather_train.head()"
      ],
      "execution_count": 15,
      "outputs": [
        {
          "output_type": "execute_result",
          "data": {
            "text/html": [
              "<div>\n",
              "<style scoped>\n",
              "    .dataframe tbody tr th:only-of-type {\n",
              "        vertical-align: middle;\n",
              "    }\n",
              "\n",
              "    .dataframe tbody tr th {\n",
              "        vertical-align: top;\n",
              "    }\n",
              "\n",
              "    .dataframe thead th {\n",
              "        text-align: right;\n",
              "    }\n",
              "</style>\n",
              "<table border=\"1\" class=\"dataframe\">\n",
              "  <thead>\n",
              "    <tr style=\"text-align: right;\">\n",
              "      <th></th>\n",
              "      <th>site_id</th>\n",
              "      <th>timestamp</th>\n",
              "      <th>air_temperature</th>\n",
              "      <th>dew_temperature</th>\n",
              "      <th>wind_speed</th>\n",
              "    </tr>\n",
              "  </thead>\n",
              "  <tbody>\n",
              "    <tr>\n",
              "      <th>0</th>\n",
              "      <td>0</td>\n",
              "      <td>2016-01-01 00:00:00</td>\n",
              "      <td>25.000000</td>\n",
              "      <td>20.00000</td>\n",
              "      <td>0.000000</td>\n",
              "    </tr>\n",
              "    <tr>\n",
              "      <th>1</th>\n",
              "      <td>0</td>\n",
              "      <td>2016-01-01 01:00:00</td>\n",
              "      <td>24.406250</td>\n",
              "      <td>21.09375</td>\n",
              "      <td>1.500000</td>\n",
              "    </tr>\n",
              "    <tr>\n",
              "      <th>2</th>\n",
              "      <td>0</td>\n",
              "      <td>2016-01-01 02:00:00</td>\n",
              "      <td>22.796875</td>\n",
              "      <td>21.09375</td>\n",
              "      <td>0.000000</td>\n",
              "    </tr>\n",
              "    <tr>\n",
              "      <th>3</th>\n",
              "      <td>0</td>\n",
              "      <td>2016-01-01 03:00:00</td>\n",
              "      <td>21.093750</td>\n",
              "      <td>20.59375</td>\n",
              "      <td>0.000000</td>\n",
              "    </tr>\n",
              "    <tr>\n",
              "      <th>4</th>\n",
              "      <td>0</td>\n",
              "      <td>2016-01-01 04:00:00</td>\n",
              "      <td>20.000000</td>\n",
              "      <td>20.00000</td>\n",
              "      <td>2.599609</td>\n",
              "    </tr>\n",
              "  </tbody>\n",
              "</table>\n",
              "</div>"
            ],
            "text/plain": [
              "   site_id           timestamp  air_temperature  dew_temperature  wind_speed\n",
              "0        0 2016-01-01 00:00:00        25.000000         20.00000    0.000000\n",
              "1        0 2016-01-01 01:00:00        24.406250         21.09375    1.500000\n",
              "2        0 2016-01-01 02:00:00        22.796875         21.09375    0.000000\n",
              "3        0 2016-01-01 03:00:00        21.093750         20.59375    0.000000\n",
              "4        0 2016-01-01 04:00:00        20.000000         20.00000    2.599609"
            ]
          },
          "metadata": {
            "tags": []
          },
          "execution_count": 15
        }
      ]
    },
    {
      "cell_type": "code",
      "metadata": {
        "id": "yc57Fib-sSKp",
        "colab_type": "code",
        "outputId": "6fb574cd-f97b-4209-bcee-15796b3c82c4",
        "colab": {
          "base_uri": "https://localhost:8080/",
          "height": 34
        }
      },
      "source": [
        "print(\"Training Weather Set Time Period =\",weather_train.timestamp.min(),\"-\",weather_train.timestamp.max())"
      ],
      "execution_count": 16,
      "outputs": [
        {
          "output_type": "stream",
          "text": [
            "Training Weather Set Time Period = 2016-01-01 00:00:00 - 2016-12-31 23:00:00\n"
          ],
          "name": "stdout"
        }
      ]
    },
    {
      "cell_type": "code",
      "metadata": {
        "id": "SpPEOtRGsSKs",
        "colab_type": "code",
        "outputId": "23f8c432-2625-4cae-c481-29d3a48e1db9",
        "colab": {
          "base_uri": "https://localhost:8080/",
          "height": 34
        }
      },
      "source": [
        "print(\"Testing Weather Set Time Period =\",weather_test.timestamp.min(),\"-\",weather_test.timestamp.max())"
      ],
      "execution_count": 17,
      "outputs": [
        {
          "output_type": "stream",
          "text": [
            "Testing Weather Set Time Period = 2017-01-01 00:00:00 - 2018-12-31 23:00:00\n"
          ],
          "name": "stdout"
        }
      ]
    },
    {
      "cell_type": "code",
      "metadata": {
        "id": "fsezL4GvsSKw",
        "colab_type": "code",
        "colab": {}
      },
      "source": [
        "# Let's concatenate the weather dataframes and fill the missing hours\n",
        "# Those hours have to be created in order to make rolling features consistent\n",
        "df_weather = pd.concat([weather_train, weather_test], ignore_index=True)"
      ],
      "execution_count": 0,
      "outputs": []
    },
    {
      "cell_type": "code",
      "metadata": {
        "id": "F6gF01uWsSK0",
        "colab_type": "code",
        "outputId": "598b2da3-5657-48d5-f4c2-94bd65e756fe",
        "colab": {
          "base_uri": "https://localhost:8080/",
          "height": 34
        }
      },
      "source": [
        "df_weather.shape"
      ],
      "execution_count": 19,
      "outputs": [
        {
          "output_type": "execute_result",
          "data": {
            "text/plain": [
              "(417016, 5)"
            ]
          },
          "metadata": {
            "tags": []
          },
          "execution_count": 19
        }
      ]
    },
    {
      "cell_type": "code",
      "metadata": {
        "id": "MUXYx0FMsSK5",
        "colab_type": "code",
        "colab": {}
      },
      "source": [
        "timestamps=pd.date_range(start='2016-01-01 00:00:00', end='2018-12-31 23:00:00', freq='H')"
      ],
      "execution_count": 0,
      "outputs": []
    },
    {
      "cell_type": "code",
      "metadata": {
        "id": "1nicwfwqsSK8",
        "colab_type": "code",
        "colab": {}
      },
      "source": [
        "timestamps=pd.date_range(start='2016-01-01 00:00:00', end='2018-12-31 23:00:00', freq='H')\n",
        "sites_ids=sorted(np.unique(df_weather.site_id))\n",
        "index = pd.MultiIndex.from_product([sites_ids, timestamps], names = [\"site_id\", \"timestamp\"])\n",
        "new_weather=pd.DataFrame(index=index).reset_index()\n",
        "df_weather=pd.merge(left=new_weather,right=df_weather,how=\"left\",left_on=[\"site_id\",\"timestamp\"],right_on=[\"site_id\",\"timestamp\"])"
      ],
      "execution_count": 0,
      "outputs": []
    },
    {
      "cell_type": "code",
      "metadata": {
        "id": "L8dQ2fWlsSK_",
        "colab_type": "code",
        "colab": {}
      },
      "source": [
        "# Categorical date and time features\n",
        "df_weather['HourOfDay'] = df_weather['timestamp'].dt.hour.values.astype(np.uint8)\n",
        "df_weather['DayOfWeek'] = df_weather['timestamp'].dt.dayofweek.values.astype(np.uint8)\n",
        "df_weather['DayOfMonth'] = df_weather['timestamp'].dt.day.values.astype(np.uint8)\n",
        "df_weather['DayOfYear'] = df_weather['timestamp'].dt.dayofyear.values.astype(np.uint16)\n",
        "df_weather['WeekOfYear'] = (np.floor(df_weather['DayOfYear'] / 7) + 1).astype(np.uint8) # Series.dt.weekofyear is not correct: https://github.com/pandas-dev/pandas/issues/6936\n",
        "df_weather['MonthOfYear'] = df_weather['timestamp'].dt.month.values.astype(np.uint8)\n",
        "df_weather['Year'] = df_weather['timestamp'].dt.year.astype(np.uint16)\n",
        "\n",
        "# Continuous date and time features\n",
        "df_weather['Hour'] = ((pd.to_timedelta(df_weather['timestamp'] - df_weather['timestamp'].min()).dt.total_seconds().astype('int64')) / 3600).astype(np.uint16)\n",
        "df_weather['Day'] = (df_weather['Hour'] / 24).astype(np.uint16)\n",
        "df_weather['Week'] = (df_weather['Day'] / 7).astype(np.uint8)"
      ],
      "execution_count": 0,
      "outputs": []
    },
    {
      "cell_type": "code",
      "metadata": {
        "id": "8zNOT5BssSLB",
        "colab_type": "code",
        "outputId": "9cbeb2a4-8763-4078-b8ad-6eb0512a05ad",
        "colab": {
          "base_uri": "https://localhost:8080/",
          "height": 286
        }
      },
      "source": [
        "df_weather.isnull().sum()"
      ],
      "execution_count": 23,
      "outputs": [
        {
          "output_type": "execute_result",
          "data": {
            "text/plain": [
              "site_id               0\n",
              "timestamp             0\n",
              "air_temperature    4007\n",
              "dew_temperature    4288\n",
              "wind_speed         4612\n",
              "HourOfDay             0\n",
              "DayOfWeek             0\n",
              "DayOfMonth            0\n",
              "DayOfYear             0\n",
              "WeekOfYear            0\n",
              "MonthOfYear           0\n",
              "Year                  0\n",
              "Hour                  0\n",
              "Day                   0\n",
              "Week                  0\n",
              "dtype: int64"
            ]
          },
          "metadata": {
            "tags": []
          },
          "execution_count": 23
        }
      ]
    },
    {
      "cell_type": "code",
      "metadata": {
        "id": "IT97B6CCsSLF",
        "colab_type": "code",
        "colab": {}
      },
      "source": [
        "# using these time features, we will train a lightgbm model to predict the missing weather features\n",
        "# air_temperature, dew_temperature and wind_speed  are selected because they have the least number of missing values."
      ],
      "execution_count": 0,
      "outputs": []
    },
    {
      "cell_type": "code",
      "metadata": {
        "id": "p1EOi2NesSLI",
        "colab_type": "code",
        "colab": {}
      },
      "source": [
        "import lightgbm as lgb\n",
        "def nan_imputer(col, window=24):\n",
        "    \n",
        "    WEATHER_PREDICTORS = ['HourOfDay', 'DayOfYear', 'WeekOfYear', 'MonthOfYear',  'Year', 'site_id', \n",
        "                          f'Site_{col}_RollingBackMean', f'Site_{col}_RollingForwMean', f'SiteHourOfDay_{col}_RollingBackMean', f'SiteHourOfDay_{col}_RollingForwMean']\n",
        "    df = df_weather.copy()\n",
        "    \n",
        "    imputer = lgb.LGBMRegressor(\n",
        "        learning_rate=0.05,\n",
        "        objective='mae',\n",
        "        n_estimators=350,\n",
        "        num_leaves=31,\n",
        "        max_depth=8,\n",
        "        subsample=0.8,\n",
        "        min_child_samples=50\n",
        "        \n",
        "    )    \n",
        "    \n",
        "    df[f'Site_{col}_RollingBackMean'] = df.groupby('site_id')[col].rolling(window=window, min_periods=1).mean().interpolate().values\n",
        "    df[f'Site_{col}_RollingForwMean'] = df.iloc[::-1].groupby('site_id')[col].rolling(window=window, min_periods=1).mean().interpolate().values\n",
        "    df[f'SiteHourOfDay_{col}_RollingBackMean'] = df.groupby(by=['site_id', 'HourOfDay'])[col].rolling(window=3, min_periods=1).mean().interpolate().values\n",
        "    df[f'SiteHourOfDay_{col}_RollingForwMean'] = df.iloc[::-1].groupby(by=['site_id', 'HourOfDay'])[col].rolling(window=3, min_periods=1).mean().interpolate().values\n",
        "    \n",
        "    trn_idx, missing_idx = ~df[col].isnull(), df[col].isnull()    \n",
        "    imputer.fit(X=df.loc[trn_idx, WEATHER_PREDICTORS], y=df.loc[trn_idx, col], categorical_feature=['site_id', 'Year'])\n",
        "    \n",
        "    df[f'{col}_Restored'] = df[col].copy()\n",
        "    df.loc[missing_idx, f'{col}_Restored'] = imputer.predict(df.loc[missing_idx, WEATHER_PREDICTORS])\n",
        "    \n",
        "    lgb.plot_importance(imputer)\n",
        "    plt.title(f'{col} Imputation Feature Importance')\n",
        "    \n",
        "    return df[f'{col}_Restored'].values.astype(np.float32)"
      ],
      "execution_count": 0,
      "outputs": []
    },
    {
      "cell_type": "code",
      "metadata": {
        "id": "BuUltHvfsSLK",
        "colab_type": "code",
        "outputId": "d1f6ac59-eea8-4b3d-a88e-c9657044a1bd",
        "colab": {
          "base_uri": "https://localhost:8080/",
          "height": 902
        }
      },
      "source": [
        "df_weather['air_temperature'] = nan_imputer('air_temperature')\n",
        "df_weather['dew_temperature'] = nan_imputer('dew_temperature')\n",
        "df_weather['wind_speed'] = nan_imputer('wind_speed')"
      ],
      "execution_count": 26,
      "outputs": [
        {
          "output_type": "stream",
          "text": [
            "/usr/local/lib/python3.6/dist-packages/lightgbm/basic.py:1209: UserWarning: categorical_feature in Dataset is overridden.\n",
            "New categorical_feature is ['Year', 'site_id']\n",
            "  'New categorical_feature is {}'.format(sorted(list(categorical_feature))))\n"
          ],
          "name": "stderr"
        },
        {
          "output_type": "display_data",
          "data": {
            "image/png": "[encoded data removed]",
            "text/plain": [
              "<Figure size 432x288 with 1 Axes>"
            ]
          },
          "metadata": {
            "tags": []
          }
        },
        {
          "output_type": "display_data",
          "data": {
            "image/png": "[encoded data removed]",
            "text/plain": [
              "<Figure size 432x288 with 1 Axes>"
            ]
          },
          "metadata": {
            "tags": []
          }
        },
        {
          "output_type": "display_data",
          "data": {
            "image/png": "[encoded data removed]",
            "text/plain": [
              "<Figure size 432x288 with 1 Axes>"
            ]
          },
          "metadata": {
            "tags": []
          }
        }
      ]
    },
    {
      "cell_type": "code",
      "metadata": {
        "id": "yAhDwQqssSLN",
        "colab_type": "code",
        "colab": {}
      },
      "source": [
        "# let's drop the least important time features \n",
        "df_weather.drop(columns=['DayOfMonth', 'WeekOfYear', 'MonthOfYear', 'Year', 'Hour', 'Day', 'Week'], inplace=True)"
      ],
      "execution_count": 0,
      "outputs": []
    },
    {
      "cell_type": "code",
      "metadata": {
        "id": "ggvUFTODsSLQ",
        "colab_type": "code",
        "outputId": "1bdf7d29-7e35-4dcb-805b-e3fb5fb310d7",
        "colab": {
          "base_uri": "https://localhost:8080/",
          "height": 195
        }
      },
      "source": [
        "df_weather.head()"
      ],
      "execution_count": 28,
      "outputs": [
        {
          "output_type": "execute_result",
          "data": {
            "text/html": [
              "<div>\n",
              "<style scoped>\n",
              "    .dataframe tbody tr th:only-of-type {\n",
              "        vertical-align: middle;\n",
              "    }\n",
              "\n",
              "    .dataframe tbody tr th {\n",
              "        vertical-align: top;\n",
              "    }\n",
              "\n",
              "    .dataframe thead th {\n",
              "        text-align: right;\n",
              "    }\n",
              "</style>\n",
              "<table border=\"1\" class=\"dataframe\">\n",
              "  <thead>\n",
              "    <tr style=\"text-align: right;\">\n",
              "      <th></th>\n",
              "      <th>site_id</th>\n",
              "      <th>timestamp</th>\n",
              "      <th>air_temperature</th>\n",
              "      <th>dew_temperature</th>\n",
              "      <th>wind_speed</th>\n",
              "      <th>HourOfDay</th>\n",
              "      <th>DayOfWeek</th>\n",
              "      <th>DayOfYear</th>\n",
              "    </tr>\n",
              "  </thead>\n",
              "  <tbody>\n",
              "    <tr>\n",
              "      <th>0</th>\n",
              "      <td>0</td>\n",
              "      <td>2016-01-01 00:00:00</td>\n",
              "      <td>25.000000</td>\n",
              "      <td>20.00000</td>\n",
              "      <td>0.000000</td>\n",
              "      <td>0</td>\n",
              "      <td>4</td>\n",
              "      <td>1</td>\n",
              "    </tr>\n",
              "    <tr>\n",
              "      <th>1</th>\n",
              "      <td>0</td>\n",
              "      <td>2016-01-01 01:00:00</td>\n",
              "      <td>24.406250</td>\n",
              "      <td>21.09375</td>\n",
              "      <td>1.500000</td>\n",
              "      <td>1</td>\n",
              "      <td>4</td>\n",
              "      <td>1</td>\n",
              "    </tr>\n",
              "    <tr>\n",
              "      <th>2</th>\n",
              "      <td>0</td>\n",
              "      <td>2016-01-01 02:00:00</td>\n",
              "      <td>22.796875</td>\n",
              "      <td>21.09375</td>\n",
              "      <td>0.000000</td>\n",
              "      <td>2</td>\n",
              "      <td>4</td>\n",
              "      <td>1</td>\n",
              "    </tr>\n",
              "    <tr>\n",
              "      <th>3</th>\n",
              "      <td>0</td>\n",
              "      <td>2016-01-01 03:00:00</td>\n",
              "      <td>21.093750</td>\n",
              "      <td>20.59375</td>\n",
              "      <td>0.000000</td>\n",
              "      <td>3</td>\n",
              "      <td>4</td>\n",
              "      <td>1</td>\n",
              "    </tr>\n",
              "    <tr>\n",
              "      <th>4</th>\n",
              "      <td>0</td>\n",
              "      <td>2016-01-01 04:00:00</td>\n",
              "      <td>20.000000</td>\n",
              "      <td>20.00000</td>\n",
              "      <td>2.599609</td>\n",
              "      <td>4</td>\n",
              "      <td>4</td>\n",
              "      <td>1</td>\n",
              "    </tr>\n",
              "  </tbody>\n",
              "</table>\n",
              "</div>"
            ],
            "text/plain": [
              "   site_id           timestamp  air_temperature  dew_temperature  wind_speed  \\\n",
              "0        0 2016-01-01 00:00:00        25.000000         20.00000    0.000000   \n",
              "1        0 2016-01-01 01:00:00        24.406250         21.09375    1.500000   \n",
              "2        0 2016-01-01 02:00:00        22.796875         21.09375    0.000000   \n",
              "3        0 2016-01-01 03:00:00        21.093750         20.59375    0.000000   \n",
              "4        0 2016-01-01 04:00:00        20.000000         20.00000    2.599609   \n",
              "\n",
              "   HourOfDay  DayOfWeek  DayOfYear  \n",
              "0          0          4          1  \n",
              "1          1          4          1  \n",
              "2          2          4          1  \n",
              "3          3          4          1  \n",
              "4          4          4          1  "
            ]
          },
          "metadata": {
            "tags": []
          },
          "execution_count": 28
        }
      ]
    },
    {
      "cell_type": "markdown",
      "metadata": {
        "id": "0a6Ko7-v7k4H",
        "colab_type": "text"
      },
      "source": [
        "## Some feature engineering:\n"
      ]
    },
    {
      "cell_type": "markdown",
      "metadata": {
        "id": "8p2i7P7KsSLS",
        "colab_type": "text"
      },
      "source": [
        " based on the discussion of the competition :\n",
        "    England (site 1, site 5)\n",
        "    Ireland (site 12)\n",
        "    Canada (site 7, site 11)\n",
        "    United States (site 0, site 2, site 3, site 4, site 6, site 8, site 9, site 10, site 13, site 14, site 15)\n",
        " We will create a feature indicating wheather it is a holiday at a given timestamp, energy consumption tend to reduce during holidays, because building like schools or work buildings are empty.\n"
      ]
    },
    {
      "cell_type": "code",
      "metadata": {
        "id": "SWWjsJeXsSLV",
        "colab_type": "code",
        "colab": {}
      },
      "source": [
        "import holidays\n",
        "en_holidays = holidays.England()\n",
        "ir_holidays = holidays.Ireland()\n",
        "ca_holidays = holidays.Canada()\n",
        "us_holidays = holidays.UnitedStates()\n",
        "\n",
        "en_idx = df_weather.query('site_id == 1 or site_id == 5').index\n",
        "ir_idx = df_weather.query('site_id == 12').index\n",
        "ca_idx = df_weather.query('site_id == 7 or site_id == 11').index\n",
        "us_idx = df_weather.query('site_id == 0 or site_id == 2 or site_id == 3 or site_id == 4 or site_id == 6 or site_id == 8 or site_id == 9 or site_id == 10 or site_id == 13 or site_id == 14 or site_id == 15').index\n",
        "\n",
        "df_weather['IsHoliday'] = 0\n",
        "df_weather.loc[en_idx, 'IsHoliday'] = df_weather.loc[en_idx, 'timestamp'].apply(lambda x: en_holidays.get(x, default=0))\n",
        "df_weather.loc[ir_idx, 'IsHoliday'] = df_weather.loc[ir_idx, 'timestamp'].apply(lambda x: ir_holidays.get(x, default=0))\n",
        "df_weather.loc[ca_idx, 'IsHoliday'] = df_weather.loc[ca_idx, 'timestamp'].apply(lambda x: ca_holidays.get(x, default=0))\n",
        "df_weather.loc[us_idx, 'IsHoliday'] = df_weather.loc[us_idx, 'timestamp'].apply(lambda x: us_holidays.get(x, default=0))\n",
        "\n",
        "holiday_idx = df_weather['IsHoliday'] != 0\n",
        "df_weather.loc[holiday_idx, 'IsHoliday'] = 1\n",
        "df_weather['IsHoliday'] = df_weather['IsHoliday'].astype(np.uint8)"
      ],
      "execution_count": 0,
      "outputs": []
    },
    {
      "cell_type": "markdown",
      "metadata": {
        "id": "6qnzdmDAsSLZ",
        "colab_type": "text"
      },
      "source": [
        "Let's create a train and test dataframe, every building must have 4 meter_reading values corresponding to to each meter type\n",
        "for every timestamp"
      ]
    },
    {
      "cell_type": "code",
      "metadata": {
        "id": "l0Qii2mysSLa",
        "colab_type": "code",
        "outputId": "ac877ca6-86d4-4f8e-e95c-d3638324941a",
        "colab": {
          "base_uri": "https://localhost:8080/",
          "height": 134
        }
      },
      "source": [
        "print(train.head())\n",
        "print(train.shape)"
      ],
      "execution_count": 30,
      "outputs": [
        {
          "output_type": "stream",
          "text": [
            "   building_id  meter  timestamp  meter_reading\n",
            "0            0      0 2016-01-01            0.0\n",
            "1            1      0 2016-01-01            0.0\n",
            "2            2      0 2016-01-01            0.0\n",
            "3            3      0 2016-01-01            0.0\n",
            "4            4      0 2016-01-01            0.0\n",
            "(20216100, 4)\n"
          ],
          "name": "stdout"
        }
      ]
    },
    {
      "cell_type": "code",
      "metadata": {
        "id": "Li6_cRwGsSLd",
        "colab_type": "code",
        "colab": {}
      },
      "source": [
        "timestamps_train=pd.date_range(start=train.timestamp.min(), end=train.timestamp.max(), freq='H')\n",
        "timestamps_test=pd.date_range(start=test.timestamp.min(), end=test.timestamp.max(), freq='H')\n",
        "building_ids=sorted(np.unique(train.building_id))\n",
        "meters=sorted(np.unique(train.meter))\n",
        "indx_train = pd.MultiIndex.from_product([building_ids, timestamps_train,meters], names = [\"building_id\", \"timestamp\",\"meter\"])\n",
        "indx_test = pd.MultiIndex.from_product([building_ids, timestamps_test,meters], names = [\"building_id\", \"timestamp\",\"meter\"])\n",
        "new_train=pd.DataFrame(index=indx_train).reset_index()\n",
        "new_test=pd.DataFrame(index=indx_test).reset_index()\n"
      ],
      "execution_count": 0,
      "outputs": []
    },
    {
      "cell_type": "code",
      "metadata": {
        "id": "HBJOva-XsSLg",
        "colab_type": "code",
        "colab": {}
      },
      "source": [
        "new_train=pd.merge(left=new_train,right=train,how=\"left\",left_on=[\"building_id\", \"timestamp\",\"meter\"],right_on=[\"building_id\", \"timestamp\",\"meter\"])\n",
        "new_test=pd.merge(left=new_test,right=test,how=\"left\",left_on=[\"building_id\", \"timestamp\",\"meter\"],right_on=[\"building_id\", \"timestamp\",\"meter\"])"
      ],
      "execution_count": 0,
      "outputs": []
    },
    {
      "cell_type": "code",
      "metadata": {
        "id": "fxHO6ccgsSLi",
        "colab_type": "code",
        "outputId": "1ee697c5-2e54-4502-8d28-df4a57d0aee1",
        "colab": {
          "base_uri": "https://localhost:8080/",
          "height": 195
        }
      },
      "source": [
        "new_test.head()"
      ],
      "execution_count": 33,
      "outputs": [
        {
          "output_type": "execute_result",
          "data": {
            "text/html": [
              "<div>\n",
              "<style scoped>\n",
              "    .dataframe tbody tr th:only-of-type {\n",
              "        vertical-align: middle;\n",
              "    }\n",
              "\n",
              "    .dataframe tbody tr th {\n",
              "        vertical-align: top;\n",
              "    }\n",
              "\n",
              "    .dataframe thead th {\n",
              "        text-align: right;\n",
              "    }\n",
              "</style>\n",
              "<table border=\"1\" class=\"dataframe\">\n",
              "  <thead>\n",
              "    <tr style=\"text-align: right;\">\n",
              "      <th></th>\n",
              "      <th>building_id</th>\n",
              "      <th>timestamp</th>\n",
              "      <th>meter</th>\n",
              "      <th>row_id</th>\n",
              "    </tr>\n",
              "  </thead>\n",
              "  <tbody>\n",
              "    <tr>\n",
              "      <th>0</th>\n",
              "      <td>0</td>\n",
              "      <td>2017-01-01 00:00:00</td>\n",
              "      <td>0</td>\n",
              "      <td>0.0</td>\n",
              "    </tr>\n",
              "    <tr>\n",
              "      <th>1</th>\n",
              "      <td>0</td>\n",
              "      <td>2017-01-01 00:00:00</td>\n",
              "      <td>1</td>\n",
              "      <td>NaN</td>\n",
              "    </tr>\n",
              "    <tr>\n",
              "      <th>2</th>\n",
              "      <td>0</td>\n",
              "      <td>2017-01-01 00:00:00</td>\n",
              "      <td>2</td>\n",
              "      <td>NaN</td>\n",
              "    </tr>\n",
              "    <tr>\n",
              "      <th>3</th>\n",
              "      <td>0</td>\n",
              "      <td>2017-01-01 00:00:00</td>\n",
              "      <td>3</td>\n",
              "      <td>NaN</td>\n",
              "    </tr>\n",
              "    <tr>\n",
              "      <th>4</th>\n",
              "      <td>0</td>\n",
              "      <td>2017-01-01 01:00:00</td>\n",
              "      <td>0</td>\n",
              "      <td>129.0</td>\n",
              "    </tr>\n",
              "  </tbody>\n",
              "</table>\n",
              "</div>"
            ],
            "text/plain": [
              "   building_id           timestamp  meter  row_id\n",
              "0            0 2017-01-01 00:00:00      0     0.0\n",
              "1            0 2017-01-01 00:00:00      1     NaN\n",
              "2            0 2017-01-01 00:00:00      2     NaN\n",
              "3            0 2017-01-01 00:00:00      3     NaN\n",
              "4            0 2017-01-01 01:00:00      0   129.0"
            ]
          },
          "metadata": {
            "tags": []
          },
          "execution_count": 33
        }
      ]
    },
    {
      "cell_type": "code",
      "metadata": {
        "id": "W_yiCmlzsSLl",
        "colab_type": "code",
        "colab": {}
      },
      "source": [
        "new_train=pd.merge(left=new_train,right=building_metadata,how=\"left\",left_on=[\"building_id\"],right_on=[\"building_id\"])\n",
        "new_test=pd.merge(left=new_test,right=building_metadata,how=\"left\",left_on=[\"building_id\"],right_on=[\"building_id\"])"
      ],
      "execution_count": 0,
      "outputs": []
    },
    {
      "cell_type": "code",
      "metadata": {
        "id": "Q9r2IIP_sSLo",
        "colab_type": "code",
        "outputId": "b8a5391c-d7c6-4cd0-fe34-a6127aae00c0",
        "colab": {
          "base_uri": "https://localhost:8080/",
          "height": 195
        }
      },
      "source": [
        "new_train.head()"
      ],
      "execution_count": 35,
      "outputs": [
        {
          "output_type": "execute_result",
          "data": {
            "text/html": [
              "<div>\n",
              "<style scoped>\n",
              "    .dataframe tbody tr th:only-of-type {\n",
              "        vertical-align: middle;\n",
              "    }\n",
              "\n",
              "    .dataframe tbody tr th {\n",
              "        vertical-align: top;\n",
              "    }\n",
              "\n",
              "    .dataframe thead th {\n",
              "        text-align: right;\n",
              "    }\n",
              "</style>\n",
              "<table border=\"1\" class=\"dataframe\">\n",
              "  <thead>\n",
              "    <tr style=\"text-align: right;\">\n",
              "      <th></th>\n",
              "      <th>building_id</th>\n",
              "      <th>timestamp</th>\n",
              "      <th>meter</th>\n",
              "      <th>meter_reading</th>\n",
              "      <th>site_id</th>\n",
              "      <th>primary_use</th>\n",
              "      <th>square_feet</th>\n",
              "    </tr>\n",
              "  </thead>\n",
              "  <tbody>\n",
              "    <tr>\n",
              "      <th>0</th>\n",
              "      <td>0</td>\n",
              "      <td>2016-01-01 00:00:00</td>\n",
              "      <td>0</td>\n",
              "      <td>0.0</td>\n",
              "      <td>0</td>\n",
              "      <td>Education</td>\n",
              "      <td>7432</td>\n",
              "    </tr>\n",
              "    <tr>\n",
              "      <th>1</th>\n",
              "      <td>0</td>\n",
              "      <td>2016-01-01 00:00:00</td>\n",
              "      <td>1</td>\n",
              "      <td>NaN</td>\n",
              "      <td>0</td>\n",
              "      <td>Education</td>\n",
              "      <td>7432</td>\n",
              "    </tr>\n",
              "    <tr>\n",
              "      <th>2</th>\n",
              "      <td>0</td>\n",
              "      <td>2016-01-01 00:00:00</td>\n",
              "      <td>2</td>\n",
              "      <td>NaN</td>\n",
              "      <td>0</td>\n",
              "      <td>Education</td>\n",
              "      <td>7432</td>\n",
              "    </tr>\n",
              "    <tr>\n",
              "      <th>3</th>\n",
              "      <td>0</td>\n",
              "      <td>2016-01-01 00:00:00</td>\n",
              "      <td>3</td>\n",
              "      <td>NaN</td>\n",
              "      <td>0</td>\n",
              "      <td>Education</td>\n",
              "      <td>7432</td>\n",
              "    </tr>\n",
              "    <tr>\n",
              "      <th>4</th>\n",
              "      <td>0</td>\n",
              "      <td>2016-01-01 01:00:00</td>\n",
              "      <td>0</td>\n",
              "      <td>0.0</td>\n",
              "      <td>0</td>\n",
              "      <td>Education</td>\n",
              "      <td>7432</td>\n",
              "    </tr>\n",
              "  </tbody>\n",
              "</table>\n",
              "</div>"
            ],
            "text/plain": [
              "   building_id           timestamp  meter  meter_reading  site_id primary_use  \\\n",
              "0            0 2016-01-01 00:00:00      0            0.0        0   Education   \n",
              "1            0 2016-01-01 00:00:00      1            NaN        0   Education   \n",
              "2            0 2016-01-01 00:00:00      2            NaN        0   Education   \n",
              "3            0 2016-01-01 00:00:00      3            NaN        0   Education   \n",
              "4            0 2016-01-01 01:00:00      0            0.0        0   Education   \n",
              "\n",
              "   square_feet  \n",
              "0         7432  \n",
              "1         7432  \n",
              "2         7432  \n",
              "3         7432  \n",
              "4         7432  "
            ]
          },
          "metadata": {
            "tags": []
          },
          "execution_count": 35
        }
      ]
    },
    {
      "cell_type": "code",
      "metadata": {
        "id": "r7rzPTYhsSLr",
        "colab_type": "code",
        "colab": {}
      },
      "source": [
        "new_train.meter_reading.fillna(-1,inplace=True)"
      ],
      "execution_count": 0,
      "outputs": []
    },
    {
      "cell_type": "code",
      "metadata": {
        "id": "f3hNuO_UsSLv",
        "colab_type": "code",
        "outputId": "121c1da3-e385-46f7-fa49-147aed33e9a7",
        "colab": {
          "base_uri": "https://localhost:8080/",
          "height": 195
        }
      },
      "source": [
        "df_weather.head()"
      ],
      "execution_count": 37,
      "outputs": [
        {
          "output_type": "execute_result",
          "data": {
            "text/html": [
              "<div>\n",
              "<style scoped>\n",
              "    .dataframe tbody tr th:only-of-type {\n",
              "        vertical-align: middle;\n",
              "    }\n",
              "\n",
              "    .dataframe tbody tr th {\n",
              "        vertical-align: top;\n",
              "    }\n",
              "\n",
              "    .dataframe thead th {\n",
              "        text-align: right;\n",
              "    }\n",
              "</style>\n",
              "<table border=\"1\" class=\"dataframe\">\n",
              "  <thead>\n",
              "    <tr style=\"text-align: right;\">\n",
              "      <th></th>\n",
              "      <th>site_id</th>\n",
              "      <th>timestamp</th>\n",
              "      <th>air_temperature</th>\n",
              "      <th>dew_temperature</th>\n",
              "      <th>wind_speed</th>\n",
              "      <th>HourOfDay</th>\n",
              "      <th>DayOfWeek</th>\n",
              "      <th>DayOfYear</th>\n",
              "      <th>IsHoliday</th>\n",
              "    </tr>\n",
              "  </thead>\n",
              "  <tbody>\n",
              "    <tr>\n",
              "      <th>0</th>\n",
              "      <td>0</td>\n",
              "      <td>2016-01-01 00:00:00</td>\n",
              "      <td>25.000000</td>\n",
              "      <td>20.00000</td>\n",
              "      <td>0.000000</td>\n",
              "      <td>0</td>\n",
              "      <td>4</td>\n",
              "      <td>1</td>\n",
              "      <td>1</td>\n",
              "    </tr>\n",
              "    <tr>\n",
              "      <th>1</th>\n",
              "      <td>0</td>\n",
              "      <td>2016-01-01 01:00:00</td>\n",
              "      <td>24.406250</td>\n",
              "      <td>21.09375</td>\n",
              "      <td>1.500000</td>\n",
              "      <td>1</td>\n",
              "      <td>4</td>\n",
              "      <td>1</td>\n",
              "      <td>1</td>\n",
              "    </tr>\n",
              "    <tr>\n",
              "      <th>2</th>\n",
              "      <td>0</td>\n",
              "      <td>2016-01-01 02:00:00</td>\n",
              "      <td>22.796875</td>\n",
              "      <td>21.09375</td>\n",
              "      <td>0.000000</td>\n",
              "      <td>2</td>\n",
              "      <td>4</td>\n",
              "      <td>1</td>\n",
              "      <td>1</td>\n",
              "    </tr>\n",
              "    <tr>\n",
              "      <th>3</th>\n",
              "      <td>0</td>\n",
              "      <td>2016-01-01 03:00:00</td>\n",
              "      <td>21.093750</td>\n",
              "      <td>20.59375</td>\n",
              "      <td>0.000000</td>\n",
              "      <td>3</td>\n",
              "      <td>4</td>\n",
              "      <td>1</td>\n",
              "      <td>1</td>\n",
              "    </tr>\n",
              "    <tr>\n",
              "      <th>4</th>\n",
              "      <td>0</td>\n",
              "      <td>2016-01-01 04:00:00</td>\n",
              "      <td>20.000000</td>\n",
              "      <td>20.00000</td>\n",
              "      <td>2.599609</td>\n",
              "      <td>4</td>\n",
              "      <td>4</td>\n",
              "      <td>1</td>\n",
              "      <td>1</td>\n",
              "    </tr>\n",
              "  </tbody>\n",
              "</table>\n",
              "</div>"
            ],
            "text/plain": [
              "   site_id           timestamp  air_temperature  dew_temperature  wind_speed  \\\n",
              "0        0 2016-01-01 00:00:00        25.000000         20.00000    0.000000   \n",
              "1        0 2016-01-01 01:00:00        24.406250         21.09375    1.500000   \n",
              "2        0 2016-01-01 02:00:00        22.796875         21.09375    0.000000   \n",
              "3        0 2016-01-01 03:00:00        21.093750         20.59375    0.000000   \n",
              "4        0 2016-01-01 04:00:00        20.000000         20.00000    2.599609   \n",
              "\n",
              "   HourOfDay  DayOfWeek  DayOfYear  IsHoliday  \n",
              "0          0          4          1          1  \n",
              "1          1          4          1          1  \n",
              "2          2          4          1          1  \n",
              "3          3          4          1          1  \n",
              "4          4          4          1          1  "
            ]
          },
          "metadata": {
            "tags": []
          },
          "execution_count": 37
        }
      ]
    },
    {
      "cell_type": "code",
      "metadata": {
        "id": "m2f_yv4WsSLy",
        "colab_type": "code",
        "colab": {}
      },
      "source": [
        "new_train=pd.merge(left=new_train,right=df_weather,how=\"left\",left_on=[\"site_id\",\"timestamp\"],right_on=[\"site_id\",\"timestamp\"])\n",
        "new_test=pd.merge(left=new_test,right=df_weather,how=\"left\",left_on=[\"site_id\",\"timestamp\"],right_on=[\"site_id\",\"timestamp\"])"
      ],
      "execution_count": 0,
      "outputs": []
    },
    {
      "cell_type": "code",
      "metadata": {
        "id": "N_fB5D75sSL1",
        "colab_type": "code",
        "outputId": "4f04df06-5fd8-4f26-b566-fea86a17b3b8",
        "colab": {
          "base_uri": "https://localhost:8080/",
          "height": 195
        }
      },
      "source": [
        "new_train.head(5)"
      ],
      "execution_count": 39,
      "outputs": [
        {
          "output_type": "execute_result",
          "data": {
            "text/html": [
              "<div>\n",
              "<style scoped>\n",
              "    .dataframe tbody tr th:only-of-type {\n",
              "        vertical-align: middle;\n",
              "    }\n",
              "\n",
              "    .dataframe tbody tr th {\n",
              "        vertical-align: top;\n",
              "    }\n",
              "\n",
              "    .dataframe thead th {\n",
              "        text-align: right;\n",
              "    }\n",
              "</style>\n",
              "<table border=\"1\" class=\"dataframe\">\n",
              "  <thead>\n",
              "    <tr style=\"text-align: right;\">\n",
              "      <th></th>\n",
              "      <th>building_id</th>\n",
              "      <th>timestamp</th>\n",
              "      <th>meter</th>\n",
              "      <th>meter_reading</th>\n",
              "      <th>site_id</th>\n",
              "      <th>primary_use</th>\n",
              "      <th>square_feet</th>\n",
              "      <th>air_temperature</th>\n",
              "      <th>dew_temperature</th>\n",
              "      <th>wind_speed</th>\n",
              "      <th>HourOfDay</th>\n",
              "      <th>DayOfWeek</th>\n",
              "      <th>DayOfYear</th>\n",
              "      <th>IsHoliday</th>\n",
              "    </tr>\n",
              "  </thead>\n",
              "  <tbody>\n",
              "    <tr>\n",
              "      <th>0</th>\n",
              "      <td>0</td>\n",
              "      <td>2016-01-01 00:00:00</td>\n",
              "      <td>0</td>\n",
              "      <td>0.0</td>\n",
              "      <td>0</td>\n",
              "      <td>Education</td>\n",
              "      <td>7432</td>\n",
              "      <td>25.00000</td>\n",
              "      <td>20.00000</td>\n",
              "      <td>0.0</td>\n",
              "      <td>0</td>\n",
              "      <td>4</td>\n",
              "      <td>1</td>\n",
              "      <td>1</td>\n",
              "    </tr>\n",
              "    <tr>\n",
              "      <th>1</th>\n",
              "      <td>0</td>\n",
              "      <td>2016-01-01 00:00:00</td>\n",
              "      <td>1</td>\n",
              "      <td>-1.0</td>\n",
              "      <td>0</td>\n",
              "      <td>Education</td>\n",
              "      <td>7432</td>\n",
              "      <td>25.00000</td>\n",
              "      <td>20.00000</td>\n",
              "      <td>0.0</td>\n",
              "      <td>0</td>\n",
              "      <td>4</td>\n",
              "      <td>1</td>\n",
              "      <td>1</td>\n",
              "    </tr>\n",
              "    <tr>\n",
              "      <th>2</th>\n",
              "      <td>0</td>\n",
              "      <td>2016-01-01 00:00:00</td>\n",
              "      <td>2</td>\n",
              "      <td>-1.0</td>\n",
              "      <td>0</td>\n",
              "      <td>Education</td>\n",
              "      <td>7432</td>\n",
              "      <td>25.00000</td>\n",
              "      <td>20.00000</td>\n",
              "      <td>0.0</td>\n",
              "      <td>0</td>\n",
              "      <td>4</td>\n",
              "      <td>1</td>\n",
              "      <td>1</td>\n",
              "    </tr>\n",
              "    <tr>\n",
              "      <th>3</th>\n",
              "      <td>0</td>\n",
              "      <td>2016-01-01 00:00:00</td>\n",
              "      <td>3</td>\n",
              "      <td>-1.0</td>\n",
              "      <td>0</td>\n",
              "      <td>Education</td>\n",
              "      <td>7432</td>\n",
              "      <td>25.00000</td>\n",
              "      <td>20.00000</td>\n",
              "      <td>0.0</td>\n",
              "      <td>0</td>\n",
              "      <td>4</td>\n",
              "      <td>1</td>\n",
              "      <td>1</td>\n",
              "    </tr>\n",
              "    <tr>\n",
              "      <th>4</th>\n",
              "      <td>0</td>\n",
              "      <td>2016-01-01 01:00:00</td>\n",
              "      <td>0</td>\n",
              "      <td>0.0</td>\n",
              "      <td>0</td>\n",
              "      <td>Education</td>\n",
              "      <td>7432</td>\n",
              "      <td>24.40625</td>\n",
              "      <td>21.09375</td>\n",
              "      <td>1.5</td>\n",
              "      <td>1</td>\n",
              "      <td>4</td>\n",
              "      <td>1</td>\n",
              "      <td>1</td>\n",
              "    </tr>\n",
              "  </tbody>\n",
              "</table>\n",
              "</div>"
            ],
            "text/plain": [
              "   building_id           timestamp  meter  meter_reading  site_id primary_use  \\\n",
              "0            0 2016-01-01 00:00:00      0            0.0        0   Education   \n",
              "1            0 2016-01-01 00:00:00      1           -1.0        0   Education   \n",
              "2            0 2016-01-01 00:00:00      2           -1.0        0   Education   \n",
              "3            0 2016-01-01 00:00:00      3           -1.0        0   Education   \n",
              "4            0 2016-01-01 01:00:00      0            0.0        0   Education   \n",
              "\n",
              "   square_feet  air_temperature  dew_temperature  wind_speed  HourOfDay  \\\n",
              "0         7432         25.00000         20.00000         0.0          0   \n",
              "1         7432         25.00000         20.00000         0.0          0   \n",
              "2         7432         25.00000         20.00000         0.0          0   \n",
              "3         7432         25.00000         20.00000         0.0          0   \n",
              "4         7432         24.40625         21.09375         1.5          1   \n",
              "\n",
              "   DayOfWeek  DayOfYear  IsHoliday  \n",
              "0          4          1          1  \n",
              "1          4          1          1  \n",
              "2          4          1          1  \n",
              "3          4          1          1  \n",
              "4          4          1          1  "
            ]
          },
          "metadata": {
            "tags": []
          },
          "execution_count": 39
        }
      ]
    },
    {
      "cell_type": "markdown",
      "metadata": {
        "id": "U5CTPVIg8d2C",
        "colab_type": "text"
      },
      "source": [
        "Encoding the primary use feature. If we try to onehot encode the primary use, we run out of RAM. That's why we will be using label encoding instead."
      ]
    },
    {
      "cell_type": "code",
      "metadata": {
        "id": "It4DLMH-PnHY",
        "colab_type": "code",
        "outputId": "b61566f6-fa19-4f60-d28d-a13e935381a0",
        "colab": {
          "base_uri": "https://localhost:8080/",
          "height": 202
        }
      },
      "source": [
        "! pip install category_encoders\n",
        "import category_encoders as ce\n",
        "\n",
        "encoder = ce.OrdinalEncoder(cols=[\"primary_use\"])\n",
        "encoder.fit(new_train)\n",
        "new_train=encoder.transform(new_train)\n",
        "new_test=encoder.transform(new_test)"
      ],
      "execution_count": 40,
      "outputs": [
        {
          "output_type": "stream",
          "text": [
            "Requirement already satisfied: category_encoders in /usr/local/lib/python3.6/dist-packages (2.1.0)\n",
            "Requirement already satisfied: patsy>=0.4.1 in /usr/local/lib/python3.6/dist-packages (from category_encoders) (0.5.1)\n",
            "Requirement already satisfied: statsmodels>=0.6.1 in /usr/local/lib/python3.6/dist-packages (from category_encoders) (0.10.2)\n",
            "Requirement already satisfied: numpy>=1.11.3 in /usr/local/lib/python3.6/dist-packages (from category_encoders) (1.17.4)\n",
            "Requirement already satisfied: scikit-learn>=0.20.0 in /usr/local/lib/python3.6/dist-packages (from category_encoders) (0.21.3)\n",
            "Requirement already satisfied: scipy>=0.19.0 in /usr/local/lib/python3.6/dist-packages (from category_encoders) (1.3.3)\n",
            "Requirement already satisfied: pandas>=0.21.1 in /usr/local/lib/python3.6/dist-packages (from category_encoders) (0.25.3)\n",
            "Requirement already satisfied: six in /usr/local/lib/python3.6/dist-packages (from patsy>=0.4.1->category_encoders) (1.12.0)\n",
            "Requirement already satisfied: joblib>=0.11 in /usr/local/lib/python3.6/dist-packages (from scikit-learn>=0.20.0->category_encoders) (0.14.1)\n",
            "Requirement already satisfied: python-dateutil>=2.6.1 in /usr/local/lib/python3.6/dist-packages (from pandas>=0.21.1->category_encoders) (2.6.1)\n",
            "Requirement already satisfied: pytz>=2017.2 in /usr/local/lib/python3.6/dist-packages (from pandas>=0.21.1->category_encoders) (2018.9)\n"
          ],
          "name": "stdout"
        }
      ]
    },
    {
      "cell_type": "markdown",
      "metadata": {
        "id": "G5jPTui98oZ4",
        "colab_type": "text"
      },
      "source": [
        "## preparing the data for the generator"
      ]
    },
    {
      "cell_type": "markdown",
      "metadata": {
        "id": "w2uIzFBo83cK",
        "colab_type": "text"
      },
      "source": [
        "The generator will be fed with a train list, each index of this list represent an id_building. Every element of this list represents the training data for the building during all the timestamps. We also create a target list, each index represent an id_building and every element represents the targets for the building."
      ]
    },
    {
      "cell_type": "code",
      "metadata": {
        "id": "QeS-xrrBsSL4",
        "colab_type": "code",
        "colab": {}
      },
      "source": [
        "\n",
        "data_list=[]\n",
        "for i in range(new_train.building_id.nunique()):\n",
        "  data_list.append(new_train[new_train.building_id==i])\n"
      ],
      "execution_count": 0,
      "outputs": []
    },
    {
      "cell_type": "code",
      "metadata": {
        "id": "UKqYxMrKEH4m",
        "colab_type": "code",
        "outputId": "666b00ca-b20c-4534-b140-390760919b15",
        "colab": {
          "base_uri": "https://localhost:8080/",
          "height": 195
        }
      },
      "source": [
        "data_list[0].head()"
      ],
      "execution_count": 42,
      "outputs": [
        {
          "output_type": "execute_result",
          "data": {
            "text/html": [
              "<div>\n",
              "<style scoped>\n",
              "    .dataframe tbody tr th:only-of-type {\n",
              "        vertical-align: middle;\n",
              "    }\n",
              "\n",
              "    .dataframe tbody tr th {\n",
              "        vertical-align: top;\n",
              "    }\n",
              "\n",
              "    .dataframe thead th {\n",
              "        text-align: right;\n",
              "    }\n",
              "</style>\n",
              "<table border=\"1\" class=\"dataframe\">\n",
              "  <thead>\n",
              "    <tr style=\"text-align: right;\">\n",
              "      <th></th>\n",
              "      <th>building_id</th>\n",
              "      <th>timestamp</th>\n",
              "      <th>meter</th>\n",
              "      <th>meter_reading</th>\n",
              "      <th>site_id</th>\n",
              "      <th>primary_use</th>\n",
              "      <th>square_feet</th>\n",
              "      <th>air_temperature</th>\n",
              "      <th>dew_temperature</th>\n",
              "      <th>wind_speed</th>\n",
              "      <th>HourOfDay</th>\n",
              "      <th>DayOfWeek</th>\n",
              "      <th>DayOfYear</th>\n",
              "      <th>IsHoliday</th>\n",
              "    </tr>\n",
              "  </thead>\n",
              "  <tbody>\n",
              "    <tr>\n",
              "      <th>0</th>\n",
              "      <td>0</td>\n",
              "      <td>2016-01-01 00:00:00</td>\n",
              "      <td>0</td>\n",
              "      <td>0.0</td>\n",
              "      <td>0</td>\n",
              "      <td>1</td>\n",
              "      <td>7432</td>\n",
              "      <td>25.00000</td>\n",
              "      <td>20.00000</td>\n",
              "      <td>0.0</td>\n",
              "      <td>0</td>\n",
              "      <td>4</td>\n",
              "      <td>1</td>\n",
              "      <td>1</td>\n",
              "    </tr>\n",
              "    <tr>\n",
              "      <th>1</th>\n",
              "      <td>0</td>\n",
              "      <td>2016-01-01 00:00:00</td>\n",
              "      <td>1</td>\n",
              "      <td>-1.0</td>\n",
              "      <td>0</td>\n",
              "      <td>1</td>\n",
              "      <td>7432</td>\n",
              "      <td>25.00000</td>\n",
              "      <td>20.00000</td>\n",
              "      <td>0.0</td>\n",
              "      <td>0</td>\n",
              "      <td>4</td>\n",
              "      <td>1</td>\n",
              "      <td>1</td>\n",
              "    </tr>\n",
              "    <tr>\n",
              "      <th>2</th>\n",
              "      <td>0</td>\n",
              "      <td>2016-01-01 00:00:00</td>\n",
              "      <td>2</td>\n",
              "      <td>-1.0</td>\n",
              "      <td>0</td>\n",
              "      <td>1</td>\n",
              "      <td>7432</td>\n",
              "      <td>25.00000</td>\n",
              "      <td>20.00000</td>\n",
              "      <td>0.0</td>\n",
              "      <td>0</td>\n",
              "      <td>4</td>\n",
              "      <td>1</td>\n",
              "      <td>1</td>\n",
              "    </tr>\n",
              "    <tr>\n",
              "      <th>3</th>\n",
              "      <td>0</td>\n",
              "      <td>2016-01-01 00:00:00</td>\n",
              "      <td>3</td>\n",
              "      <td>-1.0</td>\n",
              "      <td>0</td>\n",
              "      <td>1</td>\n",
              "      <td>7432</td>\n",
              "      <td>25.00000</td>\n",
              "      <td>20.00000</td>\n",
              "      <td>0.0</td>\n",
              "      <td>0</td>\n",
              "      <td>4</td>\n",
              "      <td>1</td>\n",
              "      <td>1</td>\n",
              "    </tr>\n",
              "    <tr>\n",
              "      <th>4</th>\n",
              "      <td>0</td>\n",
              "      <td>2016-01-01 01:00:00</td>\n",
              "      <td>0</td>\n",
              "      <td>0.0</td>\n",
              "      <td>0</td>\n",
              "      <td>1</td>\n",
              "      <td>7432</td>\n",
              "      <td>24.40625</td>\n",
              "      <td>21.09375</td>\n",
              "      <td>1.5</td>\n",
              "      <td>1</td>\n",
              "      <td>4</td>\n",
              "      <td>1</td>\n",
              "      <td>1</td>\n",
              "    </tr>\n",
              "  </tbody>\n",
              "</table>\n",
              "</div>"
            ],
            "text/plain": [
              "   building_id           timestamp  meter  meter_reading  site_id  \\\n",
              "0            0 2016-01-01 00:00:00      0            0.0        0   \n",
              "1            0 2016-01-01 00:00:00      1           -1.0        0   \n",
              "2            0 2016-01-01 00:00:00      2           -1.0        0   \n",
              "3            0 2016-01-01 00:00:00      3           -1.0        0   \n",
              "4            0 2016-01-01 01:00:00      0            0.0        0   \n",
              "\n",
              "   primary_use  square_feet  air_temperature  dew_temperature  wind_speed  \\\n",
              "0            1         7432         25.00000         20.00000         0.0   \n",
              "1            1         7432         25.00000         20.00000         0.0   \n",
              "2            1         7432         25.00000         20.00000         0.0   \n",
              "3            1         7432         25.00000         20.00000         0.0   \n",
              "4            1         7432         24.40625         21.09375         1.5   \n",
              "\n",
              "   HourOfDay  DayOfWeek  DayOfYear  IsHoliday  \n",
              "0          0          4          1          1  \n",
              "1          0          4          1          1  \n",
              "2          0          4          1          1  \n",
              "3          0          4          1          1  \n",
              "4          1          4          1          1  "
            ]
          },
          "metadata": {
            "tags": []
          },
          "execution_count": 42
        }
      ]
    },
    {
      "cell_type": "code",
      "metadata": {
        "id": "ieVs_Ht7E2bR",
        "colab_type": "code",
        "outputId": "1eda5c71-295e-42a7-e735-ed8413e07618",
        "colab": {
          "base_uri": "https://localhost:8080/",
          "height": 185
        }
      },
      "source": [
        "target_list=[]\n",
        "for i in data_list:\n",
        "  target_list.append(i.meter_reading.copy())\n",
        "  \n",
        "\n",
        "for i in data_list:\n",
        "  i.drop(columns=[\"timestamp\",\"meter_reading\",\"meter\"],axis=0,inplace=True)\n",
        "  i.drop_duplicates(inplace=True)"
      ],
      "execution_count": 43,
      "outputs": [
        {
          "output_type": "stream",
          "text": [
            "/usr/local/lib/python3.6/dist-packages/pandas/core/frame.py:4117: SettingWithCopyWarning: \n",
            "A value is trying to be set on a copy of a slice from a DataFrame\n",
            "\n",
            "See the caveats in the documentation: http://pandas.pydata.org/pandas-docs/stable/user_guide/indexing.html#returning-a-view-versus-a-copy\n",
            "  errors=errors,\n",
            "/usr/local/lib/python3.6/dist-packages/ipykernel_launcher.py:8: SettingWithCopyWarning: \n",
            "A value is trying to be set on a copy of a slice from a DataFrame\n",
            "\n",
            "See the caveats in the documentation: http://pandas.pydata.org/pandas-docs/stable/user_guide/indexing.html#returning-a-view-versus-a-copy\n",
            "  \n"
          ],
          "name": "stderr"
        }
      ]
    },
    {
      "cell_type": "code",
      "metadata": {
        "id": "Y3lb-IhicJSV",
        "colab_type": "code",
        "colab": {}
      },
      "source": [
        "for i in range(len(data_list)):\n",
        "  data_list[i]=data_list[i].values\n",
        "\n",
        "data_list=np.array(data_list).reshape((1449*8784,11))\n",
        "from sklearn.preprocessing import StandardScaler,MinMaxScaler\n",
        "scaler = MinMaxScaler(feature_range=(-0.5, 0.5))\n",
        "scaler.fit(data_list)\n",
        "data_list=scaler.transform(data_list)\n",
        "data_list=data_list.reshape((1449,8784,11))\n"
      ],
      "execution_count": 0,
      "outputs": []
    },
    {
      "cell_type": "code",
      "metadata": {
        "id": "wEE9CWxNZM-q",
        "colab_type": "code",
        "outputId": "9bf89892-144b-40b6-8d8f-c2805d78de02",
        "colab": {
          "base_uri": "https://localhost:8080/",
          "height": 34
        }
      },
      "source": [
        "len(target_list)"
      ],
      "execution_count": 45,
      "outputs": [
        {
          "output_type": "execute_result",
          "data": {
            "text/plain": [
              "1449"
            ]
          },
          "metadata": {
            "tags": []
          },
          "execution_count": 45
        }
      ]
    },
    {
      "cell_type": "code",
      "metadata": {
        "id": "Z8Cr4Mh7ol_L",
        "colab_type": "code",
        "outputId": "b1ce41fa-995a-497a-939a-28b4fa626919",
        "colab": {
          "base_uri": "https://localhost:8080/",
          "height": 34
        }
      },
      "source": [
        "target_list=np.array(target_list)\n",
        "target_list=target_list.reshape((1449*35136,1))\n",
        "target_scaler = MinMaxScaler(feature_range=(0, 1))\n",
        "target_scaler.fit(target_list)\n",
        "target_list=target_scaler.transform(target_list)\n",
        "target_list=target_list.reshape((1449,35136))\n",
        "print(target_list.shape)\n"
      ],
      "execution_count": 46,
      "outputs": [
        {
          "output_type": "stream",
          "text": [
            "(1449, 35136)\n"
          ],
          "name": "stdout"
        }
      ]
    },
    {
      "cell_type": "code",
      "metadata": {
        "id": "BjQQ8logqgrY",
        "colab_type": "code",
        "colab": {
          "base_uri": "https://localhost:8080/",
          "height": 34
        },
        "outputId": "d4138d10-c1f6-4aa7-d7c8-c387c0eaf4ab"
      },
      "source": [
        "n_buildings=new_train.building_id.nunique()\n",
        "print(n_buildings)"
      ],
      "execution_count": 47,
      "outputs": [
        {
          "output_type": "stream",
          "text": [
            "1449\n"
          ],
          "name": "stdout"
        }
      ]
    },
    {
      "cell_type": "code",
      "metadata": {
        "id": "LJIbsqBrCsil",
        "colab_type": "code",
        "colab": {
          "base_uri": "https://localhost:8080/",
          "height": 34
        },
        "outputId": "2ee6ee5c-7250-409d-faaa-14727c11e317"
      },
      "source": [
        "data_list[0].shape"
      ],
      "execution_count": 52,
      "outputs": [
        {
          "output_type": "execute_result",
          "data": {
            "text/plain": [
              "(8784, 11)"
            ]
          },
          "metadata": {
            "tags": []
          },
          "execution_count": 52
        }
      ]
    },
    {
      "cell_type": "code",
      "metadata": {
        "id": "_31IV90JqmyN",
        "colab_type": "code",
        "colab": {}
      },
      "source": [
        "global r\n",
        "r=0"
      ],
      "execution_count": 0,
      "outputs": []
    },
    {
      "cell_type": "markdown",
      "metadata": {
        "id": "Et0_fZHW9rog",
        "colab_type": "text"
      },
      "source": [
        "Creating the generator. The generator will generate batches for size=128. Every row represents features for a building starting from a random timestamp. The first row will contain informations about the building whose id=0, second row id=1 ext..."
      ]
    },
    {
      "cell_type": "code",
      "metadata": {
        "id": "fvlkMBfZsSL6",
        "colab_type": "code",
        "colab": {}
      },
      "source": [
        "def generator(data_list,target_list,n_buildings, lookback, delay, min_index, max_index, \n",
        "             shuffle=False, batch_size=128, step=1):\n",
        "    \"\"\"\n",
        "    data—The original array of floating-point data, which you normalized.\n",
        "    lookback—How many timesteps back the input data should go.\n",
        "    delay—How many timesteps in the future the target should be.\n",
        "    min_index and max_index—Indices in the data array that delimit which timesteps to draw from. \n",
        "                            This is useful for keeping a segment of the data for validation and another for testing.\n",
        "    shuffle—Whether to shuffle the samples or draw them in chronological order.\n",
        "    batch_size—The number of samples per batch.\n",
        "    step—The period, in timesteps, at which you sample data. You’ll set it 6 in order to draw one data point every hour.\n",
        "    \n",
        "    \"\"\"\n",
        "    global r\n",
        "    if max_index is None:\n",
        "        max_index = len(data_list[0]) - delay - 1\n",
        "    i = min_index + lookback\n",
        "    while 1:\n",
        "        if shuffle:\n",
        "            rows = np.random.randint(\n",
        "                    min_index + lookback, max_index, size=batch_size)\n",
        "        else:\n",
        "            if i + batch_size >= max_index:\n",
        "                i = min_index + lookback\n",
        "            rows = np.arange(i, min(i + batch_size, max_index))\n",
        "            i += len(rows)\n",
        "\n",
        "        samples = np.zeros((len(rows),\n",
        "                            lookback // step,\n",
        "                            data_list[0].shape[-1]))\n",
        "        targets = np.zeros((len(rows),lookback // step,4))\n",
        "\n",
        "        for j, row in enumerate(rows):\n",
        "            #r=np.random.randint(low=0,high=n_buildings)\n",
        "            r=r%n_buildings\n",
        "            indices = range(rows[j] - lookback, rows[j], step)\n",
        "            indices_target = range((rows[j] - lookback)*4 + delay, rows[j]*4 + delay, step)\n",
        "            #print(row)\n",
        "            #print(rows[j])\n",
        "            #print(\"//\")\n",
        "            #print(\"indices\", indices)\n",
        "            samples[j] = data_list[r][indices]\n",
        "            targets[j] = target_list[r][indices_target].reshape((lookback // step,4))\n",
        "            #print(r)\n",
        "            r+=1\n",
        "            \n",
        "\n",
        "            \n",
        "        yield samples, targets"
      ],
      "execution_count": 0,
      "outputs": []
    },
    {
      "cell_type": "code",
      "metadata": {
        "id": "mbGwyCgLsSL9",
        "colab_type": "code",
        "colab": {
          "base_uri": "https://localhost:8080/",
          "height": 54
        },
        "outputId": "3bacfda9-a3fd-4417-e52e-8257993b436e"
      },
      "source": [
        "lookback =4320 #observations will go back 6 months = 6*30*24\n",
        "step = 1  # observations will be sampled at one data point per hour\n",
        "delay = 1 # targets will be 24 hours in the future\n",
        "batch_size = 128\n",
        "n_buildings=new_train.building_id.nunique()\n",
        "train_gen = generator(data_list,target_list,n_buildings,\n",
        "                        lookback=lookback,\n",
        "                        delay=delay,\n",
        "                        min_index=0,\n",
        "                        max_index=8783,\n",
        "                        shuffle=True,\n",
        "                        step=step,\n",
        "                        batch_size=batch_size)\n",
        "\"\"\"\n",
        "val_gen = generator(data_list,target_list,n_buildings,\n",
        "                        lookback=lookback,\n",
        "                        delay=delay,\n",
        "                        min_index=7784,\n",
        "                        max_index=8783,\n",
        "                        step=step,\n",
        "                        batch_size=batch_size)\n",
        "\"\"\""
      ],
      "execution_count": 55,
      "outputs": [
        {
          "output_type": "execute_result",
          "data": {
            "text/plain": [
              "'\\nval_gen = generator(data_list,target_list,n_buildings,\\n                        lookback=lookback,\\n                        delay=delay,\\n                        min_index=7784,\\n                        max_index=8783,\\n                        step=step,\\n                        batch_size=batch_size)\\n'"
            ]
          },
          "metadata": {
            "tags": []
          },
          "execution_count": 55
        }
      ]
    },
    {
      "cell_type": "code",
      "metadata": {
        "id": "ELznFiCNwlUd",
        "colab_type": "code",
        "colab": {
          "base_uri": "https://localhost:8080/",
          "height": 34
        },
        "outputId": "41a993f4-52f8-4c4f-cd65-5f5419cd59a3"
      },
      "source": [
        "6*30*24"
      ],
      "execution_count": 136,
      "outputs": [
        {
          "output_type": "execute_result",
          "data": {
            "text/plain": [
              "4320"
            ]
          },
          "metadata": {
            "tags": []
          },
          "execution_count": 136
        }
      ]
    },
    {
      "cell_type": "code",
      "metadata": {
        "id": "76fp8IlrsSMA",
        "colab_type": "code",
        "colab": {}
      },
      "source": [
        "a,b=next(train_gen)"
      ],
      "execution_count": 0,
      "outputs": []
    },
    {
      "cell_type": "code",
      "metadata": {
        "id": "4tAz_6ZXt0Gi",
        "colab_type": "code",
        "colab": {
          "base_uri": "https://localhost:8080/",
          "height": 34
        },
        "outputId": "0747614d-3f1f-473b-d395-11667070d643"
      },
      "source": [
        "a.shape"
      ],
      "execution_count": 139,
      "outputs": [
        {
          "output_type": "execute_result",
          "data": {
            "text/plain": [
              "(128, 4320, 11)"
            ]
          },
          "metadata": {
            "tags": []
          },
          "execution_count": 139
        }
      ]
    },
    {
      "cell_type": "code",
      "metadata": {
        "id": "-DRZimG_sSMF",
        "colab_type": "code",
        "outputId": "abcd3ab5-0bb5-4a3d-e309-7cf00a942c9e",
        "colab": {
          "base_uri": "https://localhost:8080/",
          "height": 235
        }
      },
      "source": [
        "a[0]"
      ],
      "execution_count": 140,
      "outputs": [
        {
          "output_type": "execute_result",
          "data": {
            "text/plain": [
              "array([[-0.5       , -0.5       , -0.5       , ...,  0.33333333,\n",
              "        -0.17123288, -0.5       ],\n",
              "       [-0.5       , -0.5       , -0.5       , ...,  0.33333333,\n",
              "        -0.17123288, -0.5       ],\n",
              "       [-0.5       , -0.5       , -0.5       , ...,  0.33333333,\n",
              "        -0.17123288, -0.5       ],\n",
              "       ...,\n",
              "       [-0.5       , -0.5       , -0.5       , ...,  0.        ,\n",
              "         0.32191781, -0.5       ],\n",
              "       [-0.5       , -0.5       , -0.5       , ...,  0.        ,\n",
              "         0.32191781, -0.5       ],\n",
              "       [-0.5       , -0.5       , -0.5       , ...,  0.        ,\n",
              "         0.32191781, -0.5       ]])"
            ]
          },
          "metadata": {
            "tags": []
          },
          "execution_count": 140
        }
      ]
    },
    {
      "cell_type": "code",
      "metadata": {
        "id": "AOrF7IJBpAar",
        "colab_type": "code",
        "outputId": "f315a111-792f-4e93-c7df-983ff09cc81d",
        "colab": {
          "base_uri": "https://localhost:8080/",
          "height": 134
        }
      },
      "source": [
        "b[0]"
      ],
      "execution_count": 0,
      "outputs": [
        {
          "output_type": "execute_result",
          "data": {
            "text/plain": [
              "array([[4.56523033e-08, 0.00000000e+00, 4.56523033e-08, 2.49549194e-05],\n",
              "       [4.56523033e-08, 0.00000000e+00, 4.79349183e-08, 2.34146119e-05],\n",
              "       [4.56523033e-08, 0.00000000e+00, 4.56523033e-08, 2.34146119e-05],\n",
              "       ...,\n",
              "       [2.04344269e-05, 0.00000000e+00, 4.56523033e-08, 2.76757964e-05],\n",
              "       [4.32751876e-05, 0.00000000e+00, 1.02996164e-05, 2.76757964e-05],\n",
              "       [4.93487714e-05, 0.00000000e+00, 1.72045275e-05, 2.76757964e-05]])"
            ]
          },
          "metadata": {
            "tags": []
          },
          "execution_count": 51
        }
      ]
    },
    {
      "cell_type": "code",
      "metadata": {
        "id": "lz-18ZhPnOK9",
        "colab_type": "code",
        "outputId": "29eb5d83-13c8-44af-a993-cad536b13b41",
        "colab": {
          "base_uri": "https://localhost:8080/",
          "height": 34
        }
      },
      "source": [
        "new_train[new_train.site_id==0].meter_reading.max()"
      ],
      "execution_count": 0,
      "outputs": [
        {
          "output_type": "execute_result",
          "data": {
            "text/plain": [
              "172611.0"
            ]
          },
          "metadata": {
            "tags": []
          },
          "execution_count": 83
        }
      ]
    },
    {
      "cell_type": "markdown",
      "metadata": {
        "id": "Bd_d9e5B_GmK",
        "colab_type": "text"
      },
      "source": [
        "## Building the model"
      ]
    },
    {
      "cell_type": "code",
      "metadata": {
        "id": "VADXjYzb8AVA",
        "colab_type": "code",
        "outputId": "fe6da1b2-51ce-4082-c1d0-734176b60874",
        "colab": {
          "base_uri": "https://localhost:8080/",
          "height": 1000
        }
      },
      "source": [
        "from tensorflow.keras.layers import Dense,LSTM,GRU\n",
        "from tensorflow.keras.models import Sequential\n",
        "from tensorflow.keras.callbacks import EarlyStopping,ModelCheckpoint\n",
        "from tensorflow.keras import optimizers\n",
        "\n",
        "model = Sequential()\n",
        "model.add(GRU(32, activation='relu', \n",
        "               input_shape=(None,data_list[0].shape[-1]), \n",
        "               dropout=0.2,\n",
        "               recurrent_dropout= 0.3,\n",
        "               return_sequences=True\n",
        "              ))\n",
        "\n",
        "model.add(GRU(32, \n",
        "               activation='relu', \n",
        "               dropout=0.2,\n",
        "               recurrent_dropout= 0.3,\n",
        "               return_sequences=True\n",
        "              ))\n",
        "\n",
        "model.add(Dense(4,activation=\"linear\"))\n",
        "\n",
        "model.compile(optimizer=optimizers.Adam(lr=0.0006,clipnorm=1.0), loss=\"mse\")\n",
        "print(model.summary())\n",
        "\n",
        "#val_steps = (8783-7784-lookback)//batch_size\n",
        "\n",
        "callback_checkpoint = ModelCheckpoint(filepath= '/content/gdrive/My Drive/ashrae_data/ashrae_models/model_3.{epoch:02d}.hdf5',\n",
        "                                      monitor='val_loss',\n",
        "                                      verbose=1,\n",
        "                                      save_weights_only=False,\n",
        "                                      save_best_only=False)\n",
        "\"\"\"\n",
        "callback_early_stopping = EarlyStopping(monitor='val_loss',\n",
        "                                        patience=5, verbose=1)\n",
        "\n",
        "\"\"\"\n",
        "callbacks = [#callback_early_stopping,\n",
        "             callback_checkpoint]\n",
        "\n",
        "\n",
        "history = model.fit_generator(train_gen,\n",
        "                              steps_per_epoch = 100, \n",
        "                              epochs=500, \n",
        "                              #validation_data = val_gen, \n",
        "                              callbacks=callbacks,\n",
        "                              verbose=1),\n",
        "                              #validation_steps = val_steps)"
      ],
      "execution_count": 57,
      "outputs": [
        {
          "output_type": "stream",
          "text": [
            "Model: \"sequential_2\"\n",
            "_________________________________________________________________\n",
            "Layer (type)                 Output Shape              Param #   \n",
            "=================================================================\n",
            "gru_4 (GRU)                  (None, None, 32)          4224      \n",
            "_________________________________________________________________\n",
            "gru_5 (GRU)                  (None, None, 32)          6240      \n",
            "_________________________________________________________________\n",
            "dense_2 (Dense)              (None, None, 4)           132       \n",
            "=================================================================\n",
            "Total params: 10,596\n",
            "Trainable params: 10,596\n",
            "Non-trainable params: 0\n",
            "_________________________________________________________________\n",
            "None\n",
            "Epoch 1/500\n",
            " 99/100 [============================>.] - ETA: 8s - loss: 0.0019 \n",
            "Epoch 00001: saving model to /content/gdrive/My Drive/ashrae_data/ashrae_models/model_3.01.hdf5\n",
            "100/100 [==============================] - 863s 9s/step - loss: 0.0019\n",
            "Epoch 2/500\n",
            " 99/100 [============================>.] - ETA: 8s - loss: 3.7101e-04 \n",
            "Epoch 00002: saving model to /content/gdrive/My Drive/ashrae_data/ashrae_models/model_3.02.hdf5\n",
            "100/100 [==============================] - 854s 9s/step - loss: 3.6885e-04\n",
            "Epoch 3/500\n",
            " 99/100 [============================>.] - ETA: 8s - loss: 1.6359e-04 \n",
            "Epoch 00003: saving model to /content/gdrive/My Drive/ashrae_data/ashrae_models/model_3.03.hdf5\n",
            "100/100 [==============================] - 860s 9s/step - loss: 1.6295e-04\n",
            "Epoch 4/500\n",
            " 99/100 [============================>.] - ETA: 8s - loss: 1.0515e-04 \n",
            "Epoch 00004: saving model to /content/gdrive/My Drive/ashrae_data/ashrae_models/model_3.04.hdf5\n",
            "100/100 [==============================] - 853s 9s/step - loss: 1.0485e-04\n",
            "Epoch 5/500\n",
            " 99/100 [============================>.] - ETA: 8s - loss: 6.4302e-05 \n",
            "Epoch 00005: saving model to /content/gdrive/My Drive/ashrae_data/ashrae_models/model_3.05.hdf5\n",
            "100/100 [==============================] - 852s 9s/step - loss: 6.3991e-05\n",
            "Epoch 6/500\n",
            " 99/100 [============================>.] - ETA: 8s - loss: 4.7309e-05 \n",
            "Epoch 00006: saving model to /content/gdrive/My Drive/ashrae_data/ashrae_models/model_3.06.hdf5\n",
            "100/100 [==============================] - 851s 9s/step - loss: 5.1039e-05\n",
            "Epoch 7/500\n",
            " 99/100 [============================>.] - ETA: 8s - loss: 4.0363e-05 \n",
            "Epoch 00007: saving model to /content/gdrive/My Drive/ashrae_data/ashrae_models/model_3.07.hdf5\n",
            "100/100 [==============================] - 852s 9s/step - loss: 4.0032e-05\n",
            "Epoch 8/500\n",
            " 99/100 [============================>.] - ETA: 8s - loss: 3.2556e-05 \n",
            "Epoch 00008: saving model to /content/gdrive/My Drive/ashrae_data/ashrae_models/model_3.08.hdf5\n",
            "100/100 [==============================] - 855s 9s/step - loss: 3.2269e-05\n",
            "Epoch 9/500\n",
            " 99/100 [============================>.] - ETA: 8s - loss: 3.1357e-05 \n",
            "Epoch 00009: saving model to /content/gdrive/My Drive/ashrae_data/ashrae_models/model_3.09.hdf5\n",
            "100/100 [==============================] - 849s 8s/step - loss: 3.1098e-05\n",
            "Epoch 10/500\n",
            " 99/100 [============================>.] - ETA: 8s - loss: 2.9389e-05 \n",
            "Epoch 00010: saving model to /content/gdrive/My Drive/ashrae_data/ashrae_models/model_3.10.hdf5\n",
            "100/100 [==============================] - 850s 9s/step - loss: 2.9155e-05\n",
            "Epoch 11/500\n",
            " 99/100 [============================>.] - ETA: 8s - loss: 2.3778e-05 \n",
            "Epoch 00011: saving model to /content/gdrive/My Drive/ashrae_data/ashrae_models/model_3.11.hdf5\n",
            "100/100 [==============================] - 850s 9s/step - loss: 2.3571e-05\n",
            "Epoch 12/500\n",
            " 99/100 [============================>.] - ETA: 8s - loss: 2.9914e-05 \n",
            "Epoch 00012: saving model to /content/gdrive/My Drive/ashrae_data/ashrae_models/model_3.12.hdf5\n",
            "100/100 [==============================] - 850s 9s/step - loss: 2.9750e-05\n",
            "Epoch 13/500\n",
            "  5/100 [>.............................] - ETA: 13:44 - loss: 2.8172e-06"
          ],
          "name": "stdout"
        },
        {
          "output_type": "error",
          "ename": "KeyboardInterrupt",
          "evalue": "ignored",
          "traceback": [
            "\u001b[0;31m---------------------------------------------------------------------------\u001b[0m",
            "\u001b[0;31mKeyboardInterrupt\u001b[0m                         Traceback (most recent call last)",
            "\u001b[0;32m<ipython-input-57-4a83fc6c3f8c>\u001b[0m in \u001b[0;36m<module>\u001b[0;34m()\u001b[0m\n\u001b[1;32m     45\u001b[0m                               \u001b[0;31m#validation_data = val_gen,\u001b[0m\u001b[0;34m\u001b[0m\u001b[0;34m\u001b[0m\u001b[0;34m\u001b[0m\u001b[0m\n\u001b[1;32m     46\u001b[0m                               \u001b[0mcallbacks\u001b[0m\u001b[0;34m=\u001b[0m\u001b[0mcallbacks\u001b[0m\u001b[0;34m,\u001b[0m\u001b[0;34m\u001b[0m\u001b[0;34m\u001b[0m\u001b[0m\n\u001b[0;32m---> 47\u001b[0;31m                               verbose=1),\n\u001b[0m\u001b[1;32m     48\u001b[0m                               \u001b[0;31m#validation_steps = val_steps)\u001b[0m\u001b[0;34m\u001b[0m\u001b[0;34m\u001b[0m\u001b[0;34m\u001b[0m\u001b[0m\n",
            "\u001b[0;32m/usr/local/lib/python3.6/dist-packages/tensorflow_core/python/keras/engine/training.py\u001b[0m in \u001b[0;36mfit_generator\u001b[0;34m(self, generator, steps_per_epoch, epochs, verbose, callbacks, validation_data, validation_steps, validation_freq, class_weight, max_queue_size, workers, use_multiprocessing, shuffle, initial_epoch)\u001b[0m\n\u001b[1;32m   1294\u001b[0m         \u001b[0mshuffle\u001b[0m\u001b[0;34m=\u001b[0m\u001b[0mshuffle\u001b[0m\u001b[0;34m,\u001b[0m\u001b[0;34m\u001b[0m\u001b[0;34m\u001b[0m\u001b[0m\n\u001b[1;32m   1295\u001b[0m         \u001b[0minitial_epoch\u001b[0m\u001b[0;34m=\u001b[0m\u001b[0minitial_epoch\u001b[0m\u001b[0;34m,\u001b[0m\u001b[0;34m\u001b[0m\u001b[0;34m\u001b[0m\u001b[0m\n\u001b[0;32m-> 1296\u001b[0;31m         steps_name='steps_per_epoch')\n\u001b[0m\u001b[1;32m   1297\u001b[0m \u001b[0;34m\u001b[0m\u001b[0m\n\u001b[1;32m   1298\u001b[0m   def evaluate_generator(self,\n",
            "\u001b[0;32m/usr/local/lib/python3.6/dist-packages/tensorflow_core/python/keras/engine/training_generator.py\u001b[0m in \u001b[0;36mmodel_iteration\u001b[0;34m(model, data, steps_per_epoch, epochs, verbose, callbacks, validation_data, validation_steps, validation_freq, class_weight, max_queue_size, workers, use_multiprocessing, shuffle, initial_epoch, mode, batch_size, steps_name, **kwargs)\u001b[0m\n\u001b[1;32m    263\u001b[0m \u001b[0;34m\u001b[0m\u001b[0m\n\u001b[1;32m    264\u001b[0m       \u001b[0mis_deferred\u001b[0m \u001b[0;34m=\u001b[0m \u001b[0;32mnot\u001b[0m \u001b[0mmodel\u001b[0m\u001b[0;34m.\u001b[0m\u001b[0m_is_compiled\u001b[0m\u001b[0;34m\u001b[0m\u001b[0;34m\u001b[0m\u001b[0m\n\u001b[0;32m--> 265\u001b[0;31m       \u001b[0mbatch_outs\u001b[0m \u001b[0;34m=\u001b[0m \u001b[0mbatch_function\u001b[0m\u001b[0;34m(\u001b[0m\u001b[0;34m*\u001b[0m\u001b[0mbatch_data\u001b[0m\u001b[0;34m)\u001b[0m\u001b[0;34m\u001b[0m\u001b[0;34m\u001b[0m\u001b[0m\n\u001b[0m\u001b[1;32m    266\u001b[0m       \u001b[0;32mif\u001b[0m \u001b[0;32mnot\u001b[0m \u001b[0misinstance\u001b[0m\u001b[0;34m(\u001b[0m\u001b[0mbatch_outs\u001b[0m\u001b[0;34m,\u001b[0m \u001b[0mlist\u001b[0m\u001b[0;34m)\u001b[0m\u001b[0;34m:\u001b[0m\u001b[0;34m\u001b[0m\u001b[0;34m\u001b[0m\u001b[0m\n\u001b[1;32m    267\u001b[0m         \u001b[0mbatch_outs\u001b[0m \u001b[0;34m=\u001b[0m \u001b[0;34m[\u001b[0m\u001b[0mbatch_outs\u001b[0m\u001b[0;34m]\u001b[0m\u001b[0;34m\u001b[0m\u001b[0;34m\u001b[0m\u001b[0m\n",
            "\u001b[0;32m/usr/local/lib/python3.6/dist-packages/tensorflow_core/python/keras/engine/training.py\u001b[0m in \u001b[0;36mtrain_on_batch\u001b[0;34m(self, x, y, sample_weight, class_weight, reset_metrics)\u001b[0m\n\u001b[1;32m   1015\u001b[0m       \u001b[0mself\u001b[0m\u001b[0;34m.\u001b[0m\u001b[0m_update_sample_weight_modes\u001b[0m\u001b[0;34m(\u001b[0m\u001b[0msample_weights\u001b[0m\u001b[0;34m=\u001b[0m\u001b[0msample_weights\u001b[0m\u001b[0;34m)\u001b[0m\u001b[0;34m\u001b[0m\u001b[0;34m\u001b[0m\u001b[0m\n\u001b[1;32m   1016\u001b[0m       \u001b[0mself\u001b[0m\u001b[0;34m.\u001b[0m\u001b[0m_make_train_function\u001b[0m\u001b[0;34m(\u001b[0m\u001b[0;34m)\u001b[0m\u001b[0;34m\u001b[0m\u001b[0;34m\u001b[0m\u001b[0m\n\u001b[0;32m-> 1017\u001b[0;31m       \u001b[0moutputs\u001b[0m \u001b[0;34m=\u001b[0m \u001b[0mself\u001b[0m\u001b[0;34m.\u001b[0m\u001b[0mtrain_function\u001b[0m\u001b[0;34m(\u001b[0m\u001b[0mins\u001b[0m\u001b[0;34m)\u001b[0m  \u001b[0;31m# pylint: disable=not-callable\u001b[0m\u001b[0;34m\u001b[0m\u001b[0;34m\u001b[0m\u001b[0m\n\u001b[0m\u001b[1;32m   1018\u001b[0m \u001b[0;34m\u001b[0m\u001b[0m\n\u001b[1;32m   1019\u001b[0m     \u001b[0;32mif\u001b[0m \u001b[0mreset_metrics\u001b[0m\u001b[0;34m:\u001b[0m\u001b[0;34m\u001b[0m\u001b[0;34m\u001b[0m\u001b[0m\n",
            "\u001b[0;32m/usr/local/lib/python3.6/dist-packages/tensorflow_core/python/keras/backend.py\u001b[0m in \u001b[0;36m__call__\u001b[0;34m(self, inputs)\u001b[0m\n\u001b[1;32m   3474\u001b[0m \u001b[0;34m\u001b[0m\u001b[0m\n\u001b[1;32m   3475\u001b[0m     fetched = self._callable_fn(*array_vals,\n\u001b[0;32m-> 3476\u001b[0;31m                                 run_metadata=self.run_metadata)\n\u001b[0m\u001b[1;32m   3477\u001b[0m     \u001b[0mself\u001b[0m\u001b[0;34m.\u001b[0m\u001b[0m_call_fetch_callbacks\u001b[0m\u001b[0;34m(\u001b[0m\u001b[0mfetched\u001b[0m\u001b[0;34m[\u001b[0m\u001b[0;34m-\u001b[0m\u001b[0mlen\u001b[0m\u001b[0;34m(\u001b[0m\u001b[0mself\u001b[0m\u001b[0;34m.\u001b[0m\u001b[0m_fetches\u001b[0m\u001b[0;34m)\u001b[0m\u001b[0;34m:\u001b[0m\u001b[0;34m]\u001b[0m\u001b[0;34m)\u001b[0m\u001b[0;34m\u001b[0m\u001b[0;34m\u001b[0m\u001b[0m\n\u001b[1;32m   3478\u001b[0m     output_structure = nest.pack_sequence_as(\n",
            "\u001b[0;32m/usr/local/lib/python3.6/dist-packages/tensorflow_core/python/client/session.py\u001b[0m in \u001b[0;36m__call__\u001b[0;34m(self, *args, **kwargs)\u001b[0m\n\u001b[1;32m   1470\u001b[0m         ret = tf_session.TF_SessionRunCallable(self._session._session,\n\u001b[1;32m   1471\u001b[0m                                                \u001b[0mself\u001b[0m\u001b[0;34m.\u001b[0m\u001b[0m_handle\u001b[0m\u001b[0;34m,\u001b[0m \u001b[0margs\u001b[0m\u001b[0;34m,\u001b[0m\u001b[0;34m\u001b[0m\u001b[0;34m\u001b[0m\u001b[0m\n\u001b[0;32m-> 1472\u001b[0;31m                                                run_metadata_ptr)\n\u001b[0m\u001b[1;32m   1473\u001b[0m         \u001b[0;32mif\u001b[0m \u001b[0mrun_metadata\u001b[0m\u001b[0;34m:\u001b[0m\u001b[0;34m\u001b[0m\u001b[0;34m\u001b[0m\u001b[0m\n\u001b[1;32m   1474\u001b[0m           \u001b[0mproto_data\u001b[0m \u001b[0;34m=\u001b[0m \u001b[0mtf_session\u001b[0m\u001b[0;34m.\u001b[0m\u001b[0mTF_GetBuffer\u001b[0m\u001b[0;34m(\u001b[0m\u001b[0mrun_metadata_ptr\u001b[0m\u001b[0;34m)\u001b[0m\u001b[0;34m\u001b[0m\u001b[0;34m\u001b[0m\u001b[0m\n",
            "\u001b[0;31mKeyboardInterrupt\u001b[0m: "
          ]
        }
      ]
    },
    {
      "cell_type": "code",
      "metadata": {
        "id": "POeXcRC_vjaj",
        "colab_type": "code",
        "colab": {}
      },
      "source": [
        "new_train=[]\n",
        "data_list=[]"
      ],
      "execution_count": 0,
      "outputs": []
    },
    {
      "cell_type": "code",
      "metadata": {
        "id": "ec7yvaNbCmVt",
        "colab_type": "code",
        "outputId": "2362e60f-8fa7-47d6-cc49-73c008fa2153",
        "colab": {
          "base_uri": "https://localhost:8080/",
          "height": 195
        }
      },
      "source": [
        "new_test.head()"
      ],
      "execution_count": 59,
      "outputs": [
        {
          "output_type": "execute_result",
          "data": {
            "text/html": [
              "<div>\n",
              "<style scoped>\n",
              "    .dataframe tbody tr th:only-of-type {\n",
              "        vertical-align: middle;\n",
              "    }\n",
              "\n",
              "    .dataframe tbody tr th {\n",
              "        vertical-align: top;\n",
              "    }\n",
              "\n",
              "    .dataframe thead th {\n",
              "        text-align: right;\n",
              "    }\n",
              "</style>\n",
              "<table border=\"1\" class=\"dataframe\">\n",
              "  <thead>\n",
              "    <tr style=\"text-align: right;\">\n",
              "      <th></th>\n",
              "      <th>building_id</th>\n",
              "      <th>timestamp</th>\n",
              "      <th>meter</th>\n",
              "      <th>row_id</th>\n",
              "      <th>site_id</th>\n",
              "      <th>primary_use</th>\n",
              "      <th>square_feet</th>\n",
              "      <th>air_temperature</th>\n",
              "      <th>dew_temperature</th>\n",
              "      <th>wind_speed</th>\n",
              "      <th>HourOfDay</th>\n",
              "      <th>DayOfWeek</th>\n",
              "      <th>DayOfYear</th>\n",
              "      <th>IsHoliday</th>\n",
              "    </tr>\n",
              "  </thead>\n",
              "  <tbody>\n",
              "    <tr>\n",
              "      <th>0</th>\n",
              "      <td>0</td>\n",
              "      <td>2017-01-01 00:00:00</td>\n",
              "      <td>0</td>\n",
              "      <td>0.0</td>\n",
              "      <td>0</td>\n",
              "      <td>1</td>\n",
              "      <td>7432</td>\n",
              "      <td>17.796875</td>\n",
              "      <td>11.703125</td>\n",
              "      <td>3.599609</td>\n",
              "      <td>0</td>\n",
              "      <td>6</td>\n",
              "      <td>1</td>\n",
              "      <td>1</td>\n",
              "    </tr>\n",
              "    <tr>\n",
              "      <th>1</th>\n",
              "      <td>0</td>\n",
              "      <td>2017-01-01 00:00:00</td>\n",
              "      <td>1</td>\n",
              "      <td>NaN</td>\n",
              "      <td>0</td>\n",
              "      <td>1</td>\n",
              "      <td>7432</td>\n",
              "      <td>17.796875</td>\n",
              "      <td>11.703125</td>\n",
              "      <td>3.599609</td>\n",
              "      <td>0</td>\n",
              "      <td>6</td>\n",
              "      <td>1</td>\n",
              "      <td>1</td>\n",
              "    </tr>\n",
              "    <tr>\n",
              "      <th>2</th>\n",
              "      <td>0</td>\n",
              "      <td>2017-01-01 00:00:00</td>\n",
              "      <td>2</td>\n",
              "      <td>NaN</td>\n",
              "      <td>0</td>\n",
              "      <td>1</td>\n",
              "      <td>7432</td>\n",
              "      <td>17.796875</td>\n",
              "      <td>11.703125</td>\n",
              "      <td>3.599609</td>\n",
              "      <td>0</td>\n",
              "      <td>6</td>\n",
              "      <td>1</td>\n",
              "      <td>1</td>\n",
              "    </tr>\n",
              "    <tr>\n",
              "      <th>3</th>\n",
              "      <td>0</td>\n",
              "      <td>2017-01-01 00:00:00</td>\n",
              "      <td>3</td>\n",
              "      <td>NaN</td>\n",
              "      <td>0</td>\n",
              "      <td>1</td>\n",
              "      <td>7432</td>\n",
              "      <td>17.796875</td>\n",
              "      <td>11.703125</td>\n",
              "      <td>3.599609</td>\n",
              "      <td>0</td>\n",
              "      <td>6</td>\n",
              "      <td>1</td>\n",
              "      <td>1</td>\n",
              "    </tr>\n",
              "    <tr>\n",
              "      <th>4</th>\n",
              "      <td>0</td>\n",
              "      <td>2017-01-01 01:00:00</td>\n",
              "      <td>0</td>\n",
              "      <td>129.0</td>\n",
              "      <td>0</td>\n",
              "      <td>1</td>\n",
              "      <td>7432</td>\n",
              "      <td>17.796875</td>\n",
              "      <td>12.796875</td>\n",
              "      <td>3.099609</td>\n",
              "      <td>1</td>\n",
              "      <td>6</td>\n",
              "      <td>1</td>\n",
              "      <td>1</td>\n",
              "    </tr>\n",
              "  </tbody>\n",
              "</table>\n",
              "</div>"
            ],
            "text/plain": [
              "   building_id           timestamp  meter  row_id  site_id  primary_use  \\\n",
              "0            0 2017-01-01 00:00:00      0     0.0        0            1   \n",
              "1            0 2017-01-01 00:00:00      1     NaN        0            1   \n",
              "2            0 2017-01-01 00:00:00      2     NaN        0            1   \n",
              "3            0 2017-01-01 00:00:00      3     NaN        0            1   \n",
              "4            0 2017-01-01 01:00:00      0   129.0        0            1   \n",
              "\n",
              "   square_feet  air_temperature  dew_temperature  wind_speed  HourOfDay  \\\n",
              "0         7432        17.796875        11.703125    3.599609          0   \n",
              "1         7432        17.796875        11.703125    3.599609          0   \n",
              "2         7432        17.796875        11.703125    3.599609          0   \n",
              "3         7432        17.796875        11.703125    3.599609          0   \n",
              "4         7432        17.796875        12.796875    3.099609          1   \n",
              "\n",
              "   DayOfWeek  DayOfYear  IsHoliday  \n",
              "0          6          1          1  \n",
              "1          6          1          1  \n",
              "2          6          1          1  \n",
              "3          6          1          1  \n",
              "4          6          1          1  "
            ]
          },
          "metadata": {
            "tags": []
          },
          "execution_count": 59
        }
      ]
    },
    {
      "cell_type": "code",
      "metadata": {
        "id": "G6RAOGmFMBQi",
        "colab_type": "code",
        "colab": {}
      },
      "source": [
        "pred_list=[]\n",
        "for i in range(new_test.building_id.nunique()):\n",
        "  pred_list.append(new_test[new_test.building_id==i])"
      ],
      "execution_count": 0,
      "outputs": []
    },
    {
      "cell_type": "code",
      "metadata": {
        "id": "7GbrqD__N4Fp",
        "colab_type": "code",
        "colab": {}
      },
      "source": [
        "del(new_test)\n",
        "del(new_train)\n"
      ],
      "execution_count": 0,
      "outputs": []
    },
    {
      "cell_type": "code",
      "metadata": {
        "id": "nFxDVXGJOYLL",
        "colab_type": "code",
        "colab": {}
      },
      "source": [
        "row_ids=[]\n",
        "for i in pred_list:\n",
        "  row_ids.append(i.row_id.copy())"
      ],
      "execution_count": 0,
      "outputs": []
    },
    {
      "cell_type": "code",
      "metadata": {
        "id": "LQAaZQ2AOxaX",
        "colab_type": "code",
        "colab": {}
      },
      "source": [
        "for i in pred_list:\n",
        "  i.drop(columns=[\"timestamp\",\"meter\",\"row_id\"],axis=0,inplace=True)\n",
        "  i.drop_duplicates(inplace=True)"
      ],
      "execution_count": 0,
      "outputs": []
    },
    {
      "cell_type": "code",
      "metadata": {
        "id": "vn2GEi2BQxk0",
        "colab_type": "code",
        "colab": {}
      },
      "source": [
        "for i in pred_list:\n",
        "  i.drop_duplicates(inplace=True)"
      ],
      "execution_count": 0,
      "outputs": []
    },
    {
      "cell_type": "code",
      "metadata": {
        "id": "ry_ehCS9PY5B",
        "colab_type": "code",
        "outputId": "eac9b13a-a123-4a0f-e625-f04f055001c1",
        "colab": {
          "base_uri": "https://localhost:8080/",
          "height": 34
        }
      },
      "source": [
        "pred_list[0].shape"
      ],
      "execution_count": 65,
      "outputs": [
        {
          "output_type": "execute_result",
          "data": {
            "text/plain": [
              "(17520, 11)"
            ]
          },
          "metadata": {
            "tags": []
          },
          "execution_count": 65
        }
      ]
    },
    {
      "cell_type": "code",
      "metadata": {
        "id": "BPlaVfT1PowC",
        "colab_type": "code",
        "colab": {}
      },
      "source": [
        "for i in range(len(pred_list)):\n",
        "  pred_list[i]=pred_list[i].values\n",
        "\n",
        "pred_list=np.array(pred_list).reshape((1449*17520,11))\n",
        "\n",
        "pred_list=scaler.transform(pred_list)\n",
        "pred_list=pred_list.reshape((1449,17520,11))"
      ],
      "execution_count": 0,
      "outputs": []
    },
    {
      "cell_type": "code",
      "metadata": {
        "id": "_MH11sdxD1wo",
        "colab_type": "code",
        "outputId": "d93e7d75-c1f5-4698-fcc4-024dc23e906e",
        "colab": {
          "base_uri": "https://localhost:8080/",
          "height": 334
        }
      },
      "source": [
        "from tensorflow.keras.models import load_model\n",
        "model=load_model('/content/gdrive/My Drive/ashrae_data/ashrae_models/model_2.26-0.00.hdf5')"
      ],
      "execution_count": 0,
      "outputs": [
        {
          "output_type": "display_data",
          "data": {
            "text/html": [
              "<p style=\"color: red;\">\n",
              "The default version of TensorFlow in Colab will soon switch to TensorFlow 2.x.<br>\n",
              "We recommend you <a href=\"https://www.tensorflow.org/guide/migrate\" target=\"_blank\">upgrade</a> now \n",
              "or ensure your notebook will continue to use TensorFlow 1.x via the <code>%tensorflow_version 1.x</code> magic:\n",
              "<a href=\"https://colab.research.google.com/notebooks/tensorflow_version.ipynb\" target=\"_blank\">more info</a>.</p>\n"
            ],
            "text/plain": [
              "<IPython.core.display.HTML object>"
            ]
          },
          "metadata": {
            "tags": []
          }
        },
        {
          "output_type": "stream",
          "text": [
            "WARNING:tensorflow:From /usr/local/lib/python3.6/dist-packages/tensorflow_core/python/ops/init_ops.py:97: calling GlorotUniform.__init__ (from tensorflow.python.ops.init_ops) with dtype is deprecated and will be removed in a future version.\n",
            "Instructions for updating:\n",
            "Call initializer instance with the dtype argument instead of passing it to the constructor\n",
            "WARNING:tensorflow:From /usr/local/lib/python3.6/dist-packages/tensorflow_core/python/ops/init_ops.py:97: calling Orthogonal.__init__ (from tensorflow.python.ops.init_ops) with dtype is deprecated and will be removed in a future version.\n",
            "Instructions for updating:\n",
            "Call initializer instance with the dtype argument instead of passing it to the constructor\n",
            "WARNING:tensorflow:From /usr/local/lib/python3.6/dist-packages/tensorflow_core/python/ops/init_ops.py:97: calling Zeros.__init__ (from tensorflow.python.ops.init_ops) with dtype is deprecated and will be removed in a future version.\n",
            "Instructions for updating:\n",
            "Call initializer instance with the dtype argument instead of passing it to the constructor\n",
            "WARNING:tensorflow:From /usr/local/lib/python3.6/dist-packages/tensorflow_core/python/ops/resource_variable_ops.py:1630: calling BaseResourceVariable.__init__ (from tensorflow.python.ops.resource_variable_ops) with constraint is deprecated and will be removed in a future version.\n",
            "Instructions for updating:\n",
            "If using Keras pass *_constraint arguments to layers.\n",
            "WARNING:tensorflow:From /usr/local/lib/python3.6/dist-packages/tensorflow_core/python/ops/math_grad.py:1424: where (from tensorflow.python.ops.array_ops) is deprecated and will be removed in a future version.\n",
            "Instructions for updating:\n",
            "Use tf.where in 2.0, which has the same broadcast rule as np.where\n"
          ],
          "name": "stdout"
        }
      ]
    },
    {
      "cell_type": "code",
      "metadata": {
        "id": "HnhojNIiEDS6",
        "colab_type": "code",
        "colab": {}
      },
      "source": [
        "predictions=model.predict(pred_list)"
      ],
      "execution_count": 0,
      "outputs": []
    },
    {
      "cell_type": "code",
      "metadata": {
        "id": "HVeHT_8KTJbS",
        "colab_type": "code",
        "outputId": "195af73a-2101-4b39-d645-3973b1d29fe1",
        "colab": {
          "base_uri": "https://localhost:8080/",
          "height": 34
        }
      },
      "source": [
        "predictions.shape"
      ],
      "execution_count": 0,
      "outputs": [
        {
          "output_type": "execute_result",
          "data": {
            "text/plain": [
              "(1449, 17520, 4)"
            ]
          },
          "metadata": {
            "tags": []
          },
          "execution_count": 60
        }
      ]
    },
    {
      "cell_type": "code",
      "metadata": {
        "id": "4LO3mBYfSa4s",
        "colab_type": "code",
        "colab": {}
      },
      "source": [
        "predictions=predictions.reshape((1449,17520*4))\n",
        "predictions=target_scaler.inverse_transform(predictions)\n",
        "predictions=predictions.reshape((1449,17520,4))\n"
      ],
      "execution_count": 0,
      "outputs": []
    },
    {
      "cell_type": "code",
      "metadata": {
        "id": "SU0xIw9mmpeg",
        "colab_type": "code",
        "colab": {}
      },
      "source": [
        "predictions=predictions.reshape((1449,17520*4))"
      ],
      "execution_count": 0,
      "outputs": []
    },
    {
      "cell_type": "code",
      "metadata": {
        "id": "SOZu1MWjovQw",
        "colab_type": "code",
        "colab": {}
      },
      "source": [
        "row_ids=np.array(row_ids)"
      ],
      "execution_count": 0,
      "outputs": []
    },
    {
      "cell_type": "code",
      "metadata": {
        "id": "ENACQoJDo90N",
        "colab_type": "code",
        "outputId": "c7279139-2d42-4288-d5a7-359fa0ef00f7",
        "colab": {
          "base_uri": "https://localhost:8080/",
          "height": 34
        }
      },
      "source": [
        "row_ids.shape"
      ],
      "execution_count": 71,
      "outputs": [
        {
          "output_type": "execute_result",
          "data": {
            "text/plain": [
              "(1449, 70080)"
            ]
          },
          "metadata": {
            "tags": []
          },
          "execution_count": 71
        }
      ]
    },
    {
      "cell_type": "code",
      "metadata": {
        "id": "3KdfENLlrp-P",
        "colab_type": "code",
        "colab": {}
      },
      "source": [
        "predictions=predictions.reshape((predictions.shape[0]*predictions.shape[1],1))"
      ],
      "execution_count": 0,
      "outputs": []
    },
    {
      "cell_type": "code",
      "metadata": {
        "id": "raQKurKWsAGS",
        "colab_type": "code",
        "colab": {}
      },
      "source": [
        "row_ids=row_ids.reshape((row_ids.shape[0]*row_ids.shape[1],1))"
      ],
      "execution_count": 0,
      "outputs": []
    },
    {
      "cell_type": "code",
      "metadata": {
        "id": "4FOgmCypsJXE",
        "colab_type": "code",
        "outputId": "37819a5b-81b0-4a35-fb83-3c4d4d9f59c1",
        "colab": {
          "base_uri": "https://localhost:8080/",
          "height": 50
        }
      },
      "source": [
        "print(predictions.shape)\n",
        "print(row_ids.shape)"
      ],
      "execution_count": 74,
      "outputs": [
        {
          "output_type": "stream",
          "text": [
            "(101545920, 1)\n",
            "(101545920, 1)\n"
          ],
          "name": "stdout"
        }
      ]
    },
    {
      "cell_type": "code",
      "metadata": {
        "id": "WkRBohKVsPJz",
        "colab_type": "code",
        "colab": {}
      },
      "source": [
        "s1=pd.Series(data=predictions[:,0])\n",
        "s2=pd.Series(data=row_ids[:,0])"
      ],
      "execution_count": 0,
      "outputs": []
    },
    {
      "cell_type": "code",
      "metadata": {
        "id": "BgOazi5osg0-",
        "colab_type": "code",
        "colab": {}
      },
      "source": [
        "sub=pd.DataFrame()\n",
        "sub[\"row_id\"]=s2\n",
        "sub[\"meter_reading\"]=s1"
      ],
      "execution_count": 0,
      "outputs": []
    },
    {
      "cell_type": "code",
      "metadata": {
        "id": "kfh8lYdoyD2r",
        "colab_type": "code",
        "colab": {}
      },
      "source": [
        "sub.dropna(inplace=True)"
      ],
      "execution_count": 0,
      "outputs": []
    },
    {
      "cell_type": "code",
      "metadata": {
        "id": "HwYl436ah7DG",
        "colab_type": "code",
        "colab": {}
      },
      "source": [
        "sub.row_id=sub.row_id.astype(\"int32\")"
      ],
      "execution_count": 0,
      "outputs": []
    },
    {
      "cell_type": "code",
      "metadata": {
        "id": "77UNSllF6dMO",
        "colab_type": "code",
        "colab": {}
      },
      "source": [
        "sub.to_csv(path_or_buf=\"/content/gdrive/My Drive/ashrae_data/sub3.gz\",index=False,compression='gzip')"
      ],
      "execution_count": 0,
      "outputs": []
    }
  ]
}